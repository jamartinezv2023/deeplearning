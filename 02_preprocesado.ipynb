{
  "nbformat": 4,
  "nbformat_minor": 0,
  "metadata": {
    "colab": {
    },
    "kernelspec": {
      "name": "python3",
      "display_name": "Python 3"
    },
    "language_info": {
      "name": "python"
    }
  },
  "cells": [
    {
      "cell_type": "markdown",
      "source": [
        "#¿Cómo funciona?"
      ],
      "metadata": {
        "id": "WbI5C_L0yhCp"
      }
    },
    {
      "cell_type": "code",
      "source": [
        "!pip install kaggle\n"
      ],
      "metadata": {
        "colab": {
          "base_uri": "https://localhost:8080/"
        },
        "id": "PDtSFGyly9mn",
      },
      "execution_count": 1,
      "outputs": [
        {
          "output_type": "stream",
          "name": "stdout",
          "text": [
            "Requirement already satisfied: kaggle in /usr/local/lib/python3.12/dist-packages (1.7.4.5)\n",
            "Requirement already satisfied: bleach in /usr/local/lib/python3.12/dist-packages (from kaggle) (6.2.0)\n",
            "Requirement already satisfied: certifi>=14.05.14 in /usr/local/lib/python3.12/dist-packages (from kaggle) (2025.8.3)\n",
            "Requirement already satisfied: charset-normalizer in /usr/local/lib/python3.12/dist-packages (from kaggle) (3.4.3)\n",
            "Requirement already satisfied: idna in /usr/local/lib/python3.12/dist-packages (from kaggle) (3.10)\n",
            "Requirement already satisfied: protobuf in /usr/local/lib/python3.12/dist-packages (from kaggle) (5.29.5)\n",
            "Requirement already satisfied: python-dateutil>=2.5.3 in /usr/local/lib/python3.12/dist-packages (from kaggle) (2.9.0.post0)\n",
            "Requirement already satisfied: python-slugify in /usr/local/lib/python3.12/dist-packages (from kaggle) (8.0.4)\n",
            "Requirement already satisfied: requests in /usr/local/lib/python3.12/dist-packages (from kaggle) (2.32.4)\n",
            "Requirement already satisfied: setuptools>=21.0.0 in /usr/local/lib/python3.12/dist-packages (from kaggle) (75.2.0)\n",
            "Requirement already satisfied: six>=1.10 in /usr/local/lib/python3.12/dist-packages (from kaggle) (1.17.0)\n",
            "Requirement already satisfied: text-unidecode in /usr/local/lib/python3.12/dist-packages (from kaggle) (1.3)\n",
            "Requirement already satisfied: tqdm in /usr/local/lib/python3.12/dist-packages (from kaggle) (4.67.1)\n",
            "Requirement already satisfied: urllib3>=1.15.1 in /usr/local/lib/python3.12/dist-packages (from kaggle) (2.5.0)\n",
            "Requirement already satisfied: webencodings in /usr/local/lib/python3.12/dist-packages (from kaggle) (0.5.1)\n"
          ]
        }
      ]
    },
    {
      "cell_type": "code",
      "source": [
        "from google.colab import files\n",
        "files.upload()  # selecciona kaggle.json\n"
      ],
      "metadata": {
        "colab": {
          "base_uri": "https://localhost:8080/",
      },
      "execution_count": 2,
      "outputs": [
        {
          "output_type": "display_data",
          "data": {
            "text/plain": [
              "<IPython.core.display.HTML object>"
            ],
            "text/html": [
              "\n",
              "      Upload widget is only available when the cell has been executed in the\n",
              "      current browser session. Please rerun this cell to enable.\n",
              "      </output>\n",
              "      <script>// Copyright 2017 Google LLC\n",
              "//\n",
              "// Licensed under the Apache License, Version 2.0 (the \"License\");\n",
              "// you may not use this file except in compliance with the License.\n",
              "// You may obtain a copy of the License at\n",
              "//\n",
              "//      http://www.apache.org/licenses/LICENSE-2.0\n",
              "//\n",
              "// Unless required by applicable law or agreed to in writing, software\n",
              "// distributed under the License is distributed on an \"AS IS\" BASIS,\n",
              "// WITHOUT WARRANTIES OR CONDITIONS OF ANY KIND, either express or implied.\n",
              "// See the License for the specific language governing permissions and\n",
              "// limitations under the License.\n",
              "\n",
              "/**\n",
              " * @fileoverview Helpers for google.colab Python module.\n",
              " */\n",
              "(function(scope) {\n",
              "function span(text, styleAttributes = {}) {\n",
              "  const element = document.createElement('span');\n",
              "  element.textContent = text;\n",
              "  for (const key of Object.keys(styleAttributes)) {\n",
              "    element.style[key] = styleAttributes[key];\n",
              "  }\n",
              "  return element;\n",
              "}\n",
              "\n",
              "// Max number of bytes which will be uploaded at a time.\n",
              "const MAX_PAYLOAD_SIZE = 100 * 1024;\n",
              "\n",
              "function _uploadFiles(inputId, outputId) {\n",
              "  const steps = uploadFilesStep(inputId, outputId);\n",
              "  const outputElement = document.getElementById(outputId);\n",
              "  // Cache steps on the outputElement to make it available for the next call\n",
              "  // to uploadFilesContinue from Python.\n",
              "  outputElement.steps = steps;\n",
              "\n",
              "  return _uploadFilesContinue(outputId);\n",
              "}\n",
              "\n",
              "// This is roughly an async generator (not supported in the browser yet),\n",
              "// where there are multiple asynchronous steps and the Python side is going\n",
              "// to poll for completion of each step.\n",
              "// This uses a Promise to block the python side on completion of each step,\n",
              "// then passes the result of the previous step as the input to the next step.\n",
              "function _uploadFilesContinue(outputId) {\n",
              "  const outputElement = document.getElementById(outputId);\n",
              "  const steps = outputElement.steps;\n",
              "\n",
              "  const next = steps.next(outputElement.lastPromiseValue);\n",
              "  return Promise.resolve(next.value.promise).then((value) => {\n",
              "    // Cache the last promise value to make it available to the next\n",
              "    // step of the generator.\n",
              "    outputElement.lastPromiseValue = value;\n",
              "    return next.value.response;\n",
              "  });\n",
              "}\n",
              "\n",
              "/**\n",
              " * Generator function which is called between each async step of the upload\n",
              " * process.\n",
              " * @param {string} inputId Element ID of the input file picker element.\n",
              " * @param {string} outputId Element ID of the output display.\n",
              " * @return {!Iterable<!Object>} Iterable of next steps.\n",
              " */\n",
              "function* uploadFilesStep(inputId, outputId) {\n",
              "  const inputElement = document.getElementById(inputId);\n",
              "  inputElement.disabled = false;\n",
              "\n",
              "  const outputElement = document.getElementById(outputId);\n",
              "  outputElement.innerHTML = '';\n",
              "\n",
              "  const pickedPromise = new Promise((resolve) => {\n",
              "    inputElement.addEventListener('change', (e) => {\n",
              "      resolve(e.target.files);\n",
              "    });\n",
              "  });\n",
              "\n",
              "  const cancel = document.createElement('button');\n",
              "  inputElement.parentElement.appendChild(cancel);\n",
              "  cancel.textContent = 'Cancel upload';\n",
              "  const cancelPromise = new Promise((resolve) => {\n",
              "    cancel.onclick = () => {\n",
              "      resolve(null);\n",
              "    };\n",
              "  });\n",
              "\n",
              "  // Wait for the user to pick the files.\n",
              "  const files = yield {\n",
              "    promise: Promise.race([pickedPromise, cancelPromise]),\n",
              "    response: {\n",
              "      action: 'starting',\n",
              "    }\n",
              "  };\n",
              "\n",
              "  cancel.remove();\n",
              "\n",
              "  // Disable the input element since further picks are not allowed.\n",
              "  inputElement.disabled = true;\n",
              "\n",
              "  if (!files) {\n",
              "    return {\n",
              "      response: {\n",
              "        action: 'complete',\n",
              "      }\n",
              "    };\n",
              "  }\n",
              "\n",
              "  for (const file of files) {\n",
              "    const li = document.createElement('li');\n",
              "    li.append(span(file.name, {fontWeight: 'bold'}));\n",
              "    li.append(span(\n",
              "        `(${file.type || 'n/a'}) - ${file.size} bytes, ` +\n",
              "        `last modified: ${\n",
              "            file.lastModifiedDate ? file.lastModifiedDate.toLocaleDateString() :\n",
              "                                    'n/a'} - `));\n",
              "    const percent = span('0% done');\n",
              "    li.appendChild(percent);\n",
              "\n",
              "    outputElement.appendChild(li);\n",
              "\n",
              "    const fileDataPromise = new Promise((resolve) => {\n",
              "      const reader = new FileReader();\n",
              "      reader.onload = (e) => {\n",
              "        resolve(e.target.result);\n",
              "      };\n",
              "      reader.readAsArrayBuffer(file);\n",
              "    });\n",
              "    // Wait for the data to be ready.\n",
              "    let fileData = yield {\n",
              "      promise: fileDataPromise,\n",
              "      response: {\n",
              "        action: 'continue',\n",
              "      }\n",
              "    };\n",
              "\n",
              "    // Use a chunked sending to avoid message size limits. See b/62115660.\n",
              "    let position = 0;\n",
              "    do {\n",
              "      const length = Math.min(fileData.byteLength - position, MAX_PAYLOAD_SIZE);\n",
              "      const chunk = new Uint8Array(fileData, position, length);\n",
              "      position += length;\n",
              "\n",
              "      const base64 = btoa(String.fromCharCode.apply(null, chunk));\n",
              "      yield {\n",
              "        response: {\n",
              "          action: 'append',\n",
              "          file: file.name,\n",
              "          data: base64,\n",
              "        },\n",
              "      };\n",
              "\n",
              "      let percentDone = fileData.byteLength === 0 ?\n",
              "          100 :\n",
              "          Math.round((position / fileData.byteLength) * 100);\n",
              "      percent.textContent = `${percentDone}% done`;\n",
              "\n",
              "    } while (position < fileData.byteLength);\n",
              "  }\n",
              "\n",
              "  // All done.\n",
              "  yield {\n",
              "    response: {\n",
              "      action: 'complete',\n",
              "    }\n",
              "  };\n",
              "}\n",
              "\n",
              "scope.google = scope.google || {};\n",
              "scope.google.colab = scope.google.colab || {};\n",
              "scope.google.colab._files = {\n",
              "  _uploadFiles,\n",
              "  _uploadFilesContinue,\n",
              "};\n",
              "})(self);\n",
              "</script> "
            ]
          },
          "metadata": {}
        },
        {
          "output_type": "stream",
          "name": "stdout",
          "text": [
            "Saving kaggle.json to kaggle.json\n"
          ]
        },
        {
          "output_type": "execute_result",
          "data": {
            "text/plain": [
              "{'kaggle.json': b'{\"username\":\"josemartinez2023\",\"key\":\"73a5a964a37b93eff5d8df3b5e1095d5\"}'}"
            ]
          },
          "metadata": {},
          "execution_count": 2
        }
      ]
    },
    {
      "cell_type": "code",
      "source": [
        "!mkdir -p ~/.kaggle\n",
        "!mv kaggle.json ~/.kaggle/\n",
        "!chmod 600 ~/.kaggle/kaggle.json\n"
      ],
      "metadata": {
        "id": "YqWTlqI1zLY_"
      },
      "execution_count": 3,
      "outputs": []
    },
    {
      "cell_type": "code",
      "source": [
        "!kaggle datasets download -d martj42/international-football-results-from-1872-to-2017\n",
        "!unzip international-football-results-from-1872-to-2017.zip\n"
      ],
      "metadata": {
        "colab": {
          "base_uri": "https://localhost:8080/"
        },
        "id": "3xa6yyJ3zPa_",
      },
      "execution_count": 4,
      "outputs": [
        {
          "output_type": "stream",
          "name": "stdout",
          "text": [
            "Dataset URL: https://www.kaggle.com/datasets/martj42/international-football-results-from-1872-to-2017\n",
            "License(s): CC0-1.0\n",
            "Downloading international-football-results-from-1872-to-2017.zip to /content\n",
            "  0% 0.00/1.16M [00:00<?, ?B/s]\n",
            "Archive:  international-football-results-from-1872-to-2017.zip\n",
            "  inflating: former_names.csv        \n",
            "  inflating: goalscorers.csv         \n",
            "  inflating: results.csv             \n",
            "  inflating: shootouts.csv           \n"
          ]
        }
      ]
    },
    {
      "cell_type": "code",
      "execution_count": 5,
      "metadata": {
        "colab": {
          "base_uri": "https://localhost:8080/",
      },
      "outputs": [
        {
          "output_type": "stream",
          "name": "stdout",
          "text": [
            "Shape inicial: (48532, 9)\n"
          ]
        },
        {
          "output_type": "stream",
          "name": "stderr",
          "text": [
          ]
        },
        {
          "output_type": "stream",
          "name": "stdout",
          "text": [
            "X_seq shape: (48532, 10)\n",
            "X_static shape: (48532, 2)\n",
            "y shape: (48532,)\n",
            "✅ Archivos guardados: X_seq.npy, X_static.npy, y.npy\n"
          ]
        },
        {
          "output_type": "display_data",
          "data": {
            "text/plain": [
              "<Figure size 640x480 with 1 Axes>"
            ],
            "image/png": "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\n"
          },
          "metadata": {}
        }
      ],
      "source": [
        "# File: notebooks/02-preprocesado.ipynb\n",
        "\n",
        "# ---\n",
        "# # Preprocesamiento de Datos - Proyecto Deep Learning Fútbol\n",
        "# ---\n",
        "# Este notebook toma el CSV original de Kaggle y lo transforma en arrays numpy:\n",
        "# - X_seq.npy (secuencias de partidos para modelos temporales)\n",
        "# - X_static.npy (features estáticas de cada partido)\n",
        "# - y.npy (etiquetas de resultado: 0=derrota, 1=empate, 2=victoria)\n",
        "# ---\n",
        "\n",
        "import pandas as pd\n",
        "import numpy as np\n",
        "import matplotlib.pyplot as plt\n",
        "import seaborn as sns\n",
        "from sklearn.preprocessing import LabelEncoder, StandardScaler\n",
        "from tqdm import tqdm\n",
        "\n",
        "# ======================\n",
        "# 1. Cargar Dataset\n",
        "# ======================\n",
        "df = pd.read_csv(\"results.csv\")\n",
        "print(\"Shape inicial:\", df.shape)\n",
        "df.head()\n",
        "\n",
        "# ======================\n",
        "# 2. Limpieza básica\n",
        "# ======================\n",
        "# Eliminar nulos y partidos sin marcador válido\n",
        "df = df.dropna(subset=['home_score', 'away_score'])\n",
        "df = df[df['home_score'] >= 0]\n",
        "df = df[df['away_score'] >= 0]\n",
        "\n",
        "# Normalizar nombres de equipos\n",
        "df['home_team'] = df['home_team'].str.strip()\n",
        "df['away_team'] = df['away_team'].str.strip()\n",
        "\n",
        "# ======================\n",
        "# 3. Generar variable objetivo (y)\n",
        "# ======================\n",
        "def resultado(row):\n",
        "    if row['home_score'] > row['away_score']:\n",
        "        return 2  # victoria local\n",
        "    elif row['home_score'] < row['away_score']:\n",
        "        return 0  # derrota local\n",
        "    else:\n",
        "        return 1  # empate\n",
        "\n",
        "df['target'] = df.apply(resultado, axis=1)\n",
        "df[['home_team','away_team','home_score','away_score','target']].head()\n",
        "\n",
        "# ======================\n",
        "# 4. Features estáticas\n",
        "# ======================\n",
        "static_features = df[['home_score', 'away_score']]\n",
        "scaler = StandardScaler()\n",
        "X_static = scaler.fit_transform(static_features)\n",
        "\n",
        "# ======================\n",
        "# 5. Features secuenciales (historial por equipo)\n",
        "# ======================\n",
        "# Ejemplo: historial de últimos 5 partidos por equipo\n",
        "window_size = 5\n",
        "\n",
        "# Inicializar secuencias\n",
        "teams = pd.concat([df['home_team'], df['away_team']]).unique()\n",
        "historial = {team: [] for team in teams}\n",
        "X_seq = []\n",
        "y_seq = []\n",
        "\n",
        "for i, row in tqdm(df.iterrows(), total=len(df)):\n",
        "    home = row['home_team']\n",
        "    away = row['away_team']\n",
        "\n",
        "    # Representar historial de goles recientes\n",
        "    home_hist = historial[home][-window_size:]\n",
        "    away_hist = historial[away][-window_size:]\n",
        "\n",
        "    # Padding con ceros si no hay suficientes partidos\n",
        "    home_hist = [0]*(window_size - len(home_hist)) + home_hist\n",
        "    away_hist = [0]*(window_size - len(away_hist)) + away_hist\n",
        "\n",
        "    # Concatenar en una sola secuencia\n",
        "    seq = home_hist + away_hist\n",
        "    X_seq.append(seq)\n",
        "    y_seq.append(row['target'])\n",
        "\n",
        "    # Actualizar historial con diferencia de goles\n",
        "    historial[home].append(row['home_score'] - row['away_score'])\n",
        "    historial[away].append(row['away_score'] - row['home_score'])\n",
        "\n",
        "X_seq = np.array(X_seq)\n",
        "y = np.array(y_seq)\n",
        "\n",
        "print(\"X_seq shape:\", X_seq.shape)\n",
        "print(\"X_static shape:\", X_static.shape)\n",
        "print(\"y shape:\", y.shape)\n",
        "\n",
        "# ======================\n",
        "# 6. Guardado\n",
        "# ======================\n",
        "np.save(\"X_seq.npy\", X_seq)\n",
        "np.save(\"X_static.npy\", X_static)\n",
        "np.save(\"y.npy\", y)\n",
        "\n",
        "print(\"✅ Archivos guardados: X_seq.npy, X_static.npy, y.npy\")\n",
        "\n",
        "# ======================\n",
        "# 7. Visualización de balance de clases\n",
        "# ======================\n",
        "sns.countplot(x=y)\n",
        "plt.xticks([0,1,2], [\"Derrota local\",\"Empate\",\"Victoria local\"])\n",
        "plt.title(\"Distribución de resultados\")\n",
        "plt.show()\n"
      ]
    }
  ]
}