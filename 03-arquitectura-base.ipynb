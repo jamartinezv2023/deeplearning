# File: 03-arquitectura-base.ipynb
# Baseline CNN con guardado en formato .keras, callbacks y reproducibilidad garantizada

{
 "cells": [
  {
   "cell_type": "markdown",
   "metadata": {},
   "source": [
    "# 03 - Arquitectura Base (CNN)\n",
    "\n",
    "Este notebook define y entrena una **red CNN base** para la clasificación de secuencias en el proyecto *football_project*.\n",
    "\n",
    "Incluye:\n",
    "- Búsqueda automática de los `.npy` en Google Drive.\n",
    "- Definición de CNN baseline.\n",
    "- Callbacks: `EarlyStopping`, `ModelCheckpoint`.\n",
    "- Guardado en formato moderno `.keras`.\n",
    "- Curvas de entrenamiento claras.\n",
    "- Totalmente reproducible."
   ]
  },
  {
   "cell_type": "code",
   "execution_count": null,
   "metadata": {},
   "outputs": [],
   "source": [
    "import os, glob\n",
    "import numpy as np\n",
    "import matplotlib.pyplot as plt\n",
    "\n",
    "import tensorflow as tf\n",
    "from tensorflow import keras\n",
    "from tensorflow.keras import layers\n",
    "from tensorflow.keras.callbacks import EarlyStopping, ModelCheckpoint\n",
    "\n",
    "from google.colab import drive\n",
    "drive.mount('/content/drive')"
   ]
  },
  {
   "cell_type": "markdown",
   "metadata": {},
   "source": [
    "## 🔍 Función para buscar automáticamente los `.npy` en todo tu Drive"
   ]
  },
  {
   "cell_type": "code",
   "execution_count": null,
   "metadata": {},
   "outputs": [],
   "source": [
    "def find_npy(pattern, base_dir=\"/content/drive/MyDrive\"):\n",
    "    matches = glob.glob(os.path.join(base_dir, \"**\", pattern), recursive=True)\n",
    "    if not matches:\n",
    "        raise FileNotFoundError(f\"No se encontró {pattern} en {base_dir}\")\n",
    "    print(f\"✅ Encontrado: {matches[0]}\")\n",
    "    return matches[0]\n",
    "\n",
    "X_seq_path = find_npy(\"X_seq.npy\")\n",
    "X_static_path = find_npy(\"X_static.npy\")\n",
    "y_path = find_npy(\"y.npy\")\n",
    "\n",
    "X_seq = np.load(X_seq_path)\n",
    "X_static = np.load(X_static_path)\n",
    "y = np.load(y_path)\n",
    "\n",
    "print(\"Shapes:\", X_seq.shape, X_static.shape, y.shape)"
   ]
  },
  {
   "cell_type": "markdown",
   "metadata": {},
   "source": [
    "## ⚙️ Definir el modelo CNN base"
   ]
  },
  {
   "cell_type": "code",
   "execution_count": null,
   "metadata": {},
   "outputs": [],
   "source": [
    "seq_input = keras.Input(shape=X_seq.shape[1:], name=\"seq_input\")\n",
    "static_input = keras.Input(shape=X_static.shape[1:], name=\"static_input\")\n",
    "\n",
    "x = layers.Conv1D(64, 3, activation='relu')(seq_input)\n",
    "x = layers.MaxPooling1D(2)(x)\n",
    "x = layers.Conv1D(128, 3, activation='relu')(x)\n",
    "x = layers.GlobalAveragePooling1D()(x)\n",
    "\n",
    "merged = layers.concatenate([x, static_input])\n",
    "dense = layers.Dense(64, activation='relu')(merged)\n",
    "output = layers.Dense(len(np.unique(y)), activation='softmax')(dense)\n",
    "\n",
    "model = keras.Model(inputs=[seq_input, static_input], outputs=output)\n",
    "\n",
    "model.compile(optimizer='adam', loss='sparse_categorical_crossentropy', metrics=['accuracy'])\n",
    "model.summary()"
   ]
  },
  {
   "cell_type": "markdown",
   "metadata": {},
   "source": [
    "## 📈 Entrenamiento con callbacks (EarlyStopping + ModelCheckpoint)"
   ]
  },
  {
   "cell_type": "code",
   "execution_count": null,
   "metadata": {},
   "outputs": [],
   "source": [
    "models_dir = \"/content/drive/MyDrive/football_project/models\"\n",
    "os.makedirs(models_dir, exist_ok=True)\n",
    "\n",
    "checkpoint_path = os.path.join(models_dir, \"cnn_base_best.keras\")\n",
    "\n",
    "callbacks = [\n",
    "    EarlyStopping(patience=5, restore_best_weights=True),\n",
    "    ModelCheckpoint(checkpoint_path, save_best_only=True)\n",
    "]\n",
    "\n",
    "history = model.fit(\n",
    "    [X_seq, X_static], y,\n",
    "    validation_split=0.2,\n",
    "    epochs=50,\n",
    "    batch_size=32,\n",
    "    callbacks=callbacks\n",
    ")\n",
    "\n",
    "final_path = os.path.join(models_dir, \"cnn_base_final.keras\")\n",
    "model.save(final_path)\n",
    "print(f\"✅ Modelo final guardado en: {final_path}\")"
   ]
  },
  {
   "cell_type": "markdown",
   "metadata": {},
   "source": [
    "## 📊 Curvas de entrenamiento"
   ]
  },
  {
   "cell_type": "code",
   "execution_count": null,
   "metadata": {},
   "outputs": [],
   "source": [
    "plt.figure(figsize=(12,5))\n",
    "plt.subplot(1,2,1)\n",
    "plt.plot(history.history['loss'], label='train')\n",
    "plt.plot(history.history['val_loss'], label='val')\n",
    "plt.title('Pérdida')\n",
    "plt.legend()\n",
    "\n",
    "plt.subplot(1,2,2)\n",
    "plt.plot(history.history['accuracy'], label='train')\n",
    "plt.plot(history.history['val_accuracy'], label='val')\n",
    "plt.title('Accuracy')\n",
    "plt.legend()\n",
    "\n",
    "plt.show()"
   ]
  }
 ],
 "metadata": {
  "kernelspec": {
   "display_name": "Python 3",
   "language": "python",
   "name": "python3"
  },
  "language_info": {
   "name": "python"
  }
 },
 "nbformat": 4,
 "nbformat_minor": 5
}
