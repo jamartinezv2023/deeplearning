{
  "nbformat": 4,
  "nbformat_minor": 0,
  "metadata": {
    "colab": {
      "provenance": [],
      "include_colab_link": true
    },
    "kernelspec": {
      "name": "python3",
      "display_name": "Python 3"
    },
    "language_info": {
      "name": "python"
    }
  },
  "cells": [
    {
      "cell_type": "markdown",
      "metadata": {
        "id": "view-in-github",
        "colab_type": "text"
      },
      "source": [
        "<a href=\"https://colab.research.google.com/github/jamartinezv2023/deeplearning/blob/main/03_arquitectura_de_linea_de_base.ipynb\" target=\"_parent\"><img src=\"https://colab.research.google.com/assets/colab-badge.svg\" alt=\"Open In Colab\"/></a>"
      ]
    },
    {
      "cell_type": "markdown",
      "source": [
        "#Notebook 03 – Arquitectura Base (CNN Robustecida)"
      ],
      "metadata": {
        "id": "A2LjrEFkwi5-"
      }
    },
    {
      "cell_type": "markdown",
      "source": [
        "#1. Montaje y Librerías"
      ],
      "metadata": {
        "id": "PWOYZp3WwpjN"
      }
    },
    {
      "cell_type": "code",
      "source": [
        "# ==============================\n",
        "# 1. Montaje de Drive y librerías\n",
        "# ==============================\n",
        "import os, glob\n",
        "import numpy as np\n",
        "import matplotlib.pyplot as plt\n",
        "\n",
        "import tensorflow as tf\n",
        "from tensorflow import keras\n",
        "from tensorflow.keras import layers\n",
        "from tensorflow.keras.callbacks import EarlyStopping, ModelCheckpoint\n",
        "\n",
        "from google.colab import drive\n",
        "drive.mount('/content/drive')\n"
      ],
      "metadata": {
        "colab": {
          "base_uri": "https://localhost:8080/"
        },
        "id": "iqO5Vvruws-F",
        "outputId": "d383ab16-4e88-403f-ed3d-009c0014bd6a"
      },
      "execution_count": 1,
      "outputs": [
        {
          "output_type": "stream",
          "name": "stdout",
          "text": [
            "Mounted at /content/drive\n"
          ]
        }
      ]
    },
    {
      "cell_type": "markdown",
      "source": [
        "#2. Búsqueda Automática de los .npy"
      ],
      "metadata": {
        "id": "EzQtTpOvw7PV"
      }
    },
    {
      "cell_type": "code",
      "source": [
        "# ==============================\n",
        "# 2. Función para buscar .npy en TODO el Drive\n",
        "# ==============================\n",
        "def find_npy(filename, base_dir=\"/content/drive/MyDrive\"):\n",
        "    matches = glob.glob(os.path.join(base_dir, \"**\", filename), recursive=True)\n",
        "    if not matches:\n",
        "        raise FileNotFoundError(f\"No se encontró {filename} en {base_dir}\")\n",
        "    return matches[0]\n",
        "\n",
        "X_seq_path = find_npy(\"X_seq.npy\")\n",
        "X_static_path = find_npy(\"X_static.npy\")\n",
        "y_path = find_npy(\"y.npy\")\n",
        "\n",
        "print(\"Archivos encontrados:\")\n",
        "print(\"X_seq:\", X_seq_path)\n",
        "print(\"X_static:\", X_static_path)\n",
        "print(\"y:\", y_path)\n"
      ],
      "metadata": {
        "colab": {
          "base_uri": "https://localhost:8080/"
        },
        "id": "9R2Z-5QQxAnU",
        "outputId": "1934a739-98e2-4a3d-c8a6-945e96d6bdd6"
      },
      "execution_count": 2,
      "outputs": [
        {
          "output_type": "stream",
          "name": "stdout",
          "text": [
            "Archivos encontrados:\n",
            "X_seq: /content/drive/MyDrive/football/artifacts/X_seq.npy\n",
            "X_static: /content/drive/MyDrive/football/artifacts/X_static.npy\n",
            "y: /content/drive/MyDrive/football/artifacts/y.npy\n"
          ]
        }
      ]
    },
    {
      "cell_type": "markdown",
      "source": [
        "#3. Cargar Datos"
      ],
      "metadata": {
        "id": "4n9JbjTOfTZF"
      }
    },
    {
      "cell_type": "code",
      "source": [
        "# ==============================\n",
        "# 3. Cargar arrays procesados\n",
        "# ==============================\n",
        "X_seq = np.load(X_seq_path)        # (muestras, seq_len, 1)\n",
        "X_static = np.load(X_static_path)  # (muestras, n_features)\n",
        "y = np.load(y_path)                # (muestras,)\n",
        "\n",
        "print(\"Shapes:\")\n",
        "print(\"X_seq:\", X_seq.shape)\n",
        "print(\"X_static:\", X_static.shape)\n",
        "print(\"y:\", y.shape)\n"
      ],
      "metadata": {
        "colab": {
          "base_uri": "https://localhost:8080/"
        },
        "id": "RHOIW3IDfaW2",
        "outputId": "958b2716-d2d1-4c67-badd-763ca8f0d15f"
      },
      "execution_count": 3,
      "outputs": [
        {
          "output_type": "stream",
          "name": "stdout",
          "text": [
            "Shapes:\n",
            "X_seq: (48532, 5, 1)\n",
            "X_static: (48532, 3)\n",
            "y: (48532,)\n"
          ]
        }
      ]
    },
    {
      "cell_type": "markdown",
      "source": [
        "#4. Dividir en Train/Test"
      ],
      "metadata": {
        "id": "5XC4JhxIjczG"
      }
    },
    {
      "cell_type": "code",
      "source": [
        "# ==============================\n",
        "# 4. Train/test split\n",
        "# ==============================\n",
        "from sklearn.model_selection import train_test_split\n",
        "\n",
        "X_seq_train, X_seq_test, X_static_train, X_static_test, y_train, y_test = train_test_split(\n",
        "    X_seq, X_static, y, test_size=0.2, random_state=42\n",
        ")\n",
        "\n",
        "print(\"Train seq:\", X_seq_train.shape, \"Test seq:\", X_seq_test.shape)\n",
        "print(\"Train static:\", X_static_train.shape, \"Test static:\", X_static_test.shape)\n"
      ],
      "metadata": {
        "colab": {
          "base_uri": "https://localhost:8080/"
        },
        "id": "gw0la13Yjgau",
        "outputId": "f69c2f7f-ad9c-4d6f-b7d1-4e1858323ae2"
      },
      "execution_count": 4,
      "outputs": [
        {
          "output_type": "stream",
          "name": "stdout",
          "text": [
            "Train seq: (38825, 5, 1) Test seq: (9707, 5, 1)\n",
            "Train static: (38825, 3) Test static: (9707, 3)\n"
          ]
        }
      ]
    },
    {
      "cell_type": "markdown",
      "source": [
        "#5. Arquitectura CNN + Dense"
      ],
      "metadata": {
        "id": "tL20Mgxgjl09"
      }
    },
    {
      "cell_type": "code",
      "source": [
        "# ==============================\n",
        "# 5. Definir modelo CNN + Dense\n",
        "# ==============================\n",
        "seq_len = X_seq.shape[1]\n",
        "n_features = X_static.shape[1]\n",
        "n_classes = len(np.unique(y))\n",
        "\n",
        "# Input secuencial (ej: tiempo o jugadas)\n",
        "seq_input = keras.Input(shape=(seq_len, 1), name=\"sequential_input\")\n",
        "x = layers.Conv1D(32, kernel_size=3, activation=\"relu\", padding=\"same\")(seq_input)\n",
        "x = layers.MaxPooling1D(pool_size=2)(x)\n",
        "x = layers.Conv1D(64, kernel_size=3, activation=\"relu\", padding=\"same\")(x)\n",
        "x = layers.Flatten()(x)\n",
        "\n",
        "# Input estático (ej: características fijas)\n",
        "static_input = keras.Input(shape=(n_features,), name=\"static_input\")\n",
        "\n",
        "# Combinar ambos\n",
        "combined = layers.concatenate([x, static_input])\n",
        "z = layers.Dense(64, activation=\"relu\")(combined)\n",
        "output = layers.Dense(n_classes, activation=\"softmax\")(z)\n",
        "\n",
        "model = keras.Model(inputs=[seq_input, static_input], outputs=output)\n",
        "model.summary()\n"
      ],
      "metadata": {
        "colab": {
          "base_uri": "https://localhost:8080/",
          "height": 492
        },
        "id": "K1u2BDo5jpMP",
        "outputId": "c8fcba94-cf58-47f7-cb81-189d309a6bde"
      },
      "execution_count": 5,
      "outputs": [
        {
          "output_type": "display_data",
          "data": {
            "text/plain": [
              "\u001b[1mModel: \"functional\"\u001b[0m\n"
            ],
            "text/html": [
              "<pre style=\"white-space:pre;overflow-x:auto;line-height:normal;font-family:Menlo,'DejaVu Sans Mono',consolas,'Courier New',monospace\"><span style=\"font-weight: bold\">Model: \"functional\"</span>\n",
              "</pre>\n"
            ]
          },
          "metadata": {}
        },
        {
          "output_type": "display_data",
          "data": {
            "text/plain": [
              "┏━━━━━━━━━━━━━━━━━━━━━┳━━━━━━━━━━━━━━━━━━━┳━━━━━━━━━━━━┳━━━━━━━━━━━━━━━━━━━┓\n",
              "┃\u001b[1m \u001b[0m\u001b[1mLayer (type)       \u001b[0m\u001b[1m \u001b[0m┃\u001b[1m \u001b[0m\u001b[1mOutput Shape     \u001b[0m\u001b[1m \u001b[0m┃\u001b[1m \u001b[0m\u001b[1m   Param #\u001b[0m\u001b[1m \u001b[0m┃\u001b[1m \u001b[0m\u001b[1mConnected to     \u001b[0m\u001b[1m \u001b[0m┃\n",
              "┡━━━━━━━━━━━━━━━━━━━━━╇━━━━━━━━━━━━━━━━━━━╇━━━━━━━━━━━━╇━━━━━━━━━━━━━━━━━━━┩\n",
              "│ sequential_input    │ (\u001b[38;5;45mNone\u001b[0m, \u001b[38;5;34m5\u001b[0m, \u001b[38;5;34m1\u001b[0m)      │          \u001b[38;5;34m0\u001b[0m │ -                 │\n",
              "│ (\u001b[38;5;33mInputLayer\u001b[0m)        │                   │            │                   │\n",
              "├─────────────────────┼───────────────────┼────────────┼───────────────────┤\n",
              "│ conv1d (\u001b[38;5;33mConv1D\u001b[0m)     │ (\u001b[38;5;45mNone\u001b[0m, \u001b[38;5;34m5\u001b[0m, \u001b[38;5;34m32\u001b[0m)     │        \u001b[38;5;34m128\u001b[0m │ sequential_input… │\n",
              "├─────────────────────┼───────────────────┼────────────┼───────────────────┤\n",
              "│ max_pooling1d       │ (\u001b[38;5;45mNone\u001b[0m, \u001b[38;5;34m2\u001b[0m, \u001b[38;5;34m32\u001b[0m)     │          \u001b[38;5;34m0\u001b[0m │ conv1d[\u001b[38;5;34m0\u001b[0m][\u001b[38;5;34m0\u001b[0m]      │\n",
              "│ (\u001b[38;5;33mMaxPooling1D\u001b[0m)      │                   │            │                   │\n",
              "├─────────────────────┼───────────────────┼────────────┼───────────────────┤\n",
              "│ conv1d_1 (\u001b[38;5;33mConv1D\u001b[0m)   │ (\u001b[38;5;45mNone\u001b[0m, \u001b[38;5;34m2\u001b[0m, \u001b[38;5;34m64\u001b[0m)     │      \u001b[38;5;34m6,208\u001b[0m │ max_pooling1d[\u001b[38;5;34m0\u001b[0m]… │\n",
              "├─────────────────────┼───────────────────┼────────────┼───────────────────┤\n",
              "│ flatten (\u001b[38;5;33mFlatten\u001b[0m)   │ (\u001b[38;5;45mNone\u001b[0m, \u001b[38;5;34m128\u001b[0m)       │          \u001b[38;5;34m0\u001b[0m │ conv1d_1[\u001b[38;5;34m0\u001b[0m][\u001b[38;5;34m0\u001b[0m]    │\n",
              "├─────────────────────┼───────────────────┼────────────┼───────────────────┤\n",
              "│ static_input        │ (\u001b[38;5;45mNone\u001b[0m, \u001b[38;5;34m3\u001b[0m)         │          \u001b[38;5;34m0\u001b[0m │ -                 │\n",
              "│ (\u001b[38;5;33mInputLayer\u001b[0m)        │                   │            │                   │\n",
              "├─────────────────────┼───────────────────┼────────────┼───────────────────┤\n",
              "│ concatenate         │ (\u001b[38;5;45mNone\u001b[0m, \u001b[38;5;34m131\u001b[0m)       │          \u001b[38;5;34m0\u001b[0m │ flatten[\u001b[38;5;34m0\u001b[0m][\u001b[38;5;34m0\u001b[0m],    │\n",
              "│ (\u001b[38;5;33mConcatenate\u001b[0m)       │                   │            │ static_input[\u001b[38;5;34m0\u001b[0m][\u001b[38;5;34m…\u001b[0m │\n",
              "├─────────────────────┼───────────────────┼────────────┼───────────────────┤\n",
              "│ dense (\u001b[38;5;33mDense\u001b[0m)       │ (\u001b[38;5;45mNone\u001b[0m, \u001b[38;5;34m64\u001b[0m)        │      \u001b[38;5;34m8,448\u001b[0m │ concatenate[\u001b[38;5;34m0\u001b[0m][\u001b[38;5;34m0\u001b[0m] │\n",
              "├─────────────────────┼───────────────────┼────────────┼───────────────────┤\n",
              "│ dense_1 (\u001b[38;5;33mDense\u001b[0m)     │ (\u001b[38;5;45mNone\u001b[0m, \u001b[38;5;34m3\u001b[0m)         │        \u001b[38;5;34m195\u001b[0m │ dense[\u001b[38;5;34m0\u001b[0m][\u001b[38;5;34m0\u001b[0m]       │\n",
              "└─────────────────────┴───────────────────┴────────────┴───────────────────┘\n"
            ],
            "text/html": [
              "<pre style=\"white-space:pre;overflow-x:auto;line-height:normal;font-family:Menlo,'DejaVu Sans Mono',consolas,'Courier New',monospace\">┏━━━━━━━━━━━━━━━━━━━━━┳━━━━━━━━━━━━━━━━━━━┳━━━━━━━━━━━━┳━━━━━━━━━━━━━━━━━━━┓\n",
              "┃<span style=\"font-weight: bold\"> Layer (type)        </span>┃<span style=\"font-weight: bold\"> Output Shape      </span>┃<span style=\"font-weight: bold\">    Param # </span>┃<span style=\"font-weight: bold\"> Connected to      </span>┃\n",
              "┡━━━━━━━━━━━━━━━━━━━━━╇━━━━━━━━━━━━━━━━━━━╇━━━━━━━━━━━━╇━━━━━━━━━━━━━━━━━━━┩\n",
              "│ sequential_input    │ (<span style=\"color: #00d7ff; text-decoration-color: #00d7ff\">None</span>, <span style=\"color: #00af00; text-decoration-color: #00af00\">5</span>, <span style=\"color: #00af00; text-decoration-color: #00af00\">1</span>)      │          <span style=\"color: #00af00; text-decoration-color: #00af00\">0</span> │ -                 │\n",
              "│ (<span style=\"color: #0087ff; text-decoration-color: #0087ff\">InputLayer</span>)        │                   │            │                   │\n",
              "├─────────────────────┼───────────────────┼────────────┼───────────────────┤\n",
              "│ conv1d (<span style=\"color: #0087ff; text-decoration-color: #0087ff\">Conv1D</span>)     │ (<span style=\"color: #00d7ff; text-decoration-color: #00d7ff\">None</span>, <span style=\"color: #00af00; text-decoration-color: #00af00\">5</span>, <span style=\"color: #00af00; text-decoration-color: #00af00\">32</span>)     │        <span style=\"color: #00af00; text-decoration-color: #00af00\">128</span> │ sequential_input… │\n",
              "├─────────────────────┼───────────────────┼────────────┼───────────────────┤\n",
              "│ max_pooling1d       │ (<span style=\"color: #00d7ff; text-decoration-color: #00d7ff\">None</span>, <span style=\"color: #00af00; text-decoration-color: #00af00\">2</span>, <span style=\"color: #00af00; text-decoration-color: #00af00\">32</span>)     │          <span style=\"color: #00af00; text-decoration-color: #00af00\">0</span> │ conv1d[<span style=\"color: #00af00; text-decoration-color: #00af00\">0</span>][<span style=\"color: #00af00; text-decoration-color: #00af00\">0</span>]      │\n",
              "│ (<span style=\"color: #0087ff; text-decoration-color: #0087ff\">MaxPooling1D</span>)      │                   │            │                   │\n",
              "├─────────────────────┼───────────────────┼────────────┼───────────────────┤\n",
              "│ conv1d_1 (<span style=\"color: #0087ff; text-decoration-color: #0087ff\">Conv1D</span>)   │ (<span style=\"color: #00d7ff; text-decoration-color: #00d7ff\">None</span>, <span style=\"color: #00af00; text-decoration-color: #00af00\">2</span>, <span style=\"color: #00af00; text-decoration-color: #00af00\">64</span>)     │      <span style=\"color: #00af00; text-decoration-color: #00af00\">6,208</span> │ max_pooling1d[<span style=\"color: #00af00; text-decoration-color: #00af00\">0</span>]… │\n",
              "├─────────────────────┼───────────────────┼────────────┼───────────────────┤\n",
              "│ flatten (<span style=\"color: #0087ff; text-decoration-color: #0087ff\">Flatten</span>)   │ (<span style=\"color: #00d7ff; text-decoration-color: #00d7ff\">None</span>, <span style=\"color: #00af00; text-decoration-color: #00af00\">128</span>)       │          <span style=\"color: #00af00; text-decoration-color: #00af00\">0</span> │ conv1d_1[<span style=\"color: #00af00; text-decoration-color: #00af00\">0</span>][<span style=\"color: #00af00; text-decoration-color: #00af00\">0</span>]    │\n",
              "├─────────────────────┼───────────────────┼────────────┼───────────────────┤\n",
              "│ static_input        │ (<span style=\"color: #00d7ff; text-decoration-color: #00d7ff\">None</span>, <span style=\"color: #00af00; text-decoration-color: #00af00\">3</span>)         │          <span style=\"color: #00af00; text-decoration-color: #00af00\">0</span> │ -                 │\n",
              "│ (<span style=\"color: #0087ff; text-decoration-color: #0087ff\">InputLayer</span>)        │                   │            │                   │\n",
              "├─────────────────────┼───────────────────┼────────────┼───────────────────┤\n",
              "│ concatenate         │ (<span style=\"color: #00d7ff; text-decoration-color: #00d7ff\">None</span>, <span style=\"color: #00af00; text-decoration-color: #00af00\">131</span>)       │          <span style=\"color: #00af00; text-decoration-color: #00af00\">0</span> │ flatten[<span style=\"color: #00af00; text-decoration-color: #00af00\">0</span>][<span style=\"color: #00af00; text-decoration-color: #00af00\">0</span>],    │\n",
              "│ (<span style=\"color: #0087ff; text-decoration-color: #0087ff\">Concatenate</span>)       │                   │            │ static_input[<span style=\"color: #00af00; text-decoration-color: #00af00\">0</span>][<span style=\"color: #00af00; text-decoration-color: #00af00\">…</span> │\n",
              "├─────────────────────┼───────────────────┼────────────┼───────────────────┤\n",
              "│ dense (<span style=\"color: #0087ff; text-decoration-color: #0087ff\">Dense</span>)       │ (<span style=\"color: #00d7ff; text-decoration-color: #00d7ff\">None</span>, <span style=\"color: #00af00; text-decoration-color: #00af00\">64</span>)        │      <span style=\"color: #00af00; text-decoration-color: #00af00\">8,448</span> │ concatenate[<span style=\"color: #00af00; text-decoration-color: #00af00\">0</span>][<span style=\"color: #00af00; text-decoration-color: #00af00\">0</span>] │\n",
              "├─────────────────────┼───────────────────┼────────────┼───────────────────┤\n",
              "│ dense_1 (<span style=\"color: #0087ff; text-decoration-color: #0087ff\">Dense</span>)     │ (<span style=\"color: #00d7ff; text-decoration-color: #00d7ff\">None</span>, <span style=\"color: #00af00; text-decoration-color: #00af00\">3</span>)         │        <span style=\"color: #00af00; text-decoration-color: #00af00\">195</span> │ dense[<span style=\"color: #00af00; text-decoration-color: #00af00\">0</span>][<span style=\"color: #00af00; text-decoration-color: #00af00\">0</span>]       │\n",
              "└─────────────────────┴───────────────────┴────────────┴───────────────────┘\n",
              "</pre>\n"
            ]
          },
          "metadata": {}
        },
        {
          "output_type": "display_data",
          "data": {
            "text/plain": [
              "\u001b[1m Total params: \u001b[0m\u001b[38;5;34m14,979\u001b[0m (58.51 KB)\n"
            ],
            "text/html": [
              "<pre style=\"white-space:pre;overflow-x:auto;line-height:normal;font-family:Menlo,'DejaVu Sans Mono',consolas,'Courier New',monospace\"><span style=\"font-weight: bold\"> Total params: </span><span style=\"color: #00af00; text-decoration-color: #00af00\">14,979</span> (58.51 KB)\n",
              "</pre>\n"
            ]
          },
          "metadata": {}
        },
        {
          "output_type": "display_data",
          "data": {
            "text/plain": [
              "\u001b[1m Trainable params: \u001b[0m\u001b[38;5;34m14,979\u001b[0m (58.51 KB)\n"
            ],
            "text/html": [
              "<pre style=\"white-space:pre;overflow-x:auto;line-height:normal;font-family:Menlo,'DejaVu Sans Mono',consolas,'Courier New',monospace\"><span style=\"font-weight: bold\"> Trainable params: </span><span style=\"color: #00af00; text-decoration-color: #00af00\">14,979</span> (58.51 KB)\n",
              "</pre>\n"
            ]
          },
          "metadata": {}
        },
        {
          "output_type": "display_data",
          "data": {
            "text/plain": [
              "\u001b[1m Non-trainable params: \u001b[0m\u001b[38;5;34m0\u001b[0m (0.00 B)\n"
            ],
            "text/html": [
              "<pre style=\"white-space:pre;overflow-x:auto;line-height:normal;font-family:Menlo,'DejaVu Sans Mono',consolas,'Courier New',monospace\"><span style=\"font-weight: bold\"> Non-trainable params: </span><span style=\"color: #00af00; text-decoration-color: #00af00\">0</span> (0.00 B)\n",
              "</pre>\n"
            ]
          },
          "metadata": {}
        }
      ]
    },
    {
      "cell_type": "markdown",
      "source": [
        "#6. Compilación y Callbacks"
      ],
      "metadata": {
        "id": "hx3A1zHrju0F"
      }
    },
    {
      "cell_type": "code",
      "source": [
        "# ==============================\n",
        "# 6. Compilar modelo y callbacks\n",
        "# ==============================\n",
        "model.compile(\n",
        "    loss=\"sparse_categorical_crossentropy\",\n",
        "    optimizer=keras.optimizers.Adam(learning_rate=1e-3),\n",
        "    metrics=[\"accuracy\"]\n",
        ")\n",
        "\n",
        "# Callbacks para reproducibilidad\n",
        "callbacks = [\n",
        "    EarlyStopping(patience=5, restore_best_weights=True, monitor=\"val_loss\"),\n",
        "    ModelCheckpoint(\n",
        "        \"/content/drive/MyDrive/football_project/models/cnn_base.keras\",\n",
        "        save_best_only=True,\n",
        "        monitor=\"val_loss\"\n",
        "    )\n",
        "]\n"
      ],
      "metadata": {
        "id": "QiWdErwhjx71"
      },
      "execution_count": 6,
      "outputs": []
    },
    {
      "cell_type": "markdown",
      "source": [
        "#7. Entrenamiento"
      ],
      "metadata": {
        "id": "Htd4rJYpj2S-"
      }
    },
    {
      "cell_type": "code",
      "source": [
        "# ==============================\n",
        "# 7. Entrenar modelo\n",
        "# ==============================\n",
        "history = model.fit(\n",
        "    {\"sequential_input\": X_seq_train, \"static_input\": X_static_train},\n",
        "    y_train,\n",
        "    validation_data=(\n",
        "        {\"sequential_input\": X_seq_test, \"static_input\": X_static_test}, y_test\n",
        "    ),\n",
        "    epochs=50,\n",
        "    batch_size=32,\n",
        "    callbacks=callbacks\n",
        ")\n"
      ],
      "metadata": {
        "colab": {
          "base_uri": "https://localhost:8080/"
        },
        "id": "ov-goQ8Rj54d",
        "outputId": "7aa2691e-96c9-4ee2-a4c6-684b0b22060f"
      },
      "execution_count": 7,
      "outputs": [
        {
          "output_type": "stream",
          "name": "stdout",
          "text": [
            "Epoch 1/50\n",
            "\u001b[1m1214/1214\u001b[0m \u001b[32m━━━━━━━━━━━━━━━━━━━━\u001b[0m\u001b[37m\u001b[0m \u001b[1m5s\u001b[0m 3ms/step - accuracy: 0.4872 - loss: 1.0511 - val_accuracy: 0.4799 - val_loss: 1.0491\n",
            "Epoch 2/50\n",
            "\u001b[1m1214/1214\u001b[0m \u001b[32m━━━━━━━━━━━━━━━━━━━━\u001b[0m\u001b[37m\u001b[0m \u001b[1m3s\u001b[0m 3ms/step - accuracy: 0.4904 - loss: 1.0419 - val_accuracy: 0.4796 - val_loss: 1.0498\n",
            "Epoch 3/50\n",
            "\u001b[1m1214/1214\u001b[0m \u001b[32m━━━━━━━━━━━━━━━━━━━━\u001b[0m\u001b[37m\u001b[0m \u001b[1m5s\u001b[0m 4ms/step - accuracy: 0.4927 - loss: 1.0388 - val_accuracy: 0.4791 - val_loss: 1.0482\n",
            "Epoch 4/50\n",
            "\u001b[1m1214/1214\u001b[0m \u001b[32m━━━━━━━━━━━━━━━━━━━━\u001b[0m\u001b[37m\u001b[0m \u001b[1m3s\u001b[0m 3ms/step - accuracy: 0.4941 - loss: 1.0384 - val_accuracy: 0.4798 - val_loss: 1.0472\n",
            "Epoch 5/50\n",
            "\u001b[1m1214/1214\u001b[0m \u001b[32m━━━━━━━━━━━━━━━━━━━━\u001b[0m\u001b[37m\u001b[0m \u001b[1m3s\u001b[0m 3ms/step - accuracy: 0.4947 - loss: 1.0371 - val_accuracy: 0.4790 - val_loss: 1.0495\n",
            "Epoch 6/50\n",
            "\u001b[1m1214/1214\u001b[0m \u001b[32m━━━━━━━━━━━━━━━━━━━━\u001b[0m\u001b[37m\u001b[0m \u001b[1m4s\u001b[0m 3ms/step - accuracy: 0.4956 - loss: 1.0354 - val_accuracy: 0.4774 - val_loss: 1.0482\n",
            "Epoch 7/50\n",
            "\u001b[1m1214/1214\u001b[0m \u001b[32m━━━━━━━━━━━━━━━━━━━━\u001b[0m\u001b[37m\u001b[0m \u001b[1m4s\u001b[0m 3ms/step - accuracy: 0.4885 - loss: 1.0394 - val_accuracy: 0.4793 - val_loss: 1.0477\n",
            "Epoch 8/50\n",
            "\u001b[1m1214/1214\u001b[0m \u001b[32m━━━━━━━━━━━━━━━━━━━━\u001b[0m\u001b[37m\u001b[0m \u001b[1m3s\u001b[0m 3ms/step - accuracy: 0.4954 - loss: 1.0349 - val_accuracy: 0.4794 - val_loss: 1.0485\n",
            "Epoch 9/50\n",
            "\u001b[1m1214/1214\u001b[0m \u001b[32m━━━━━━━━━━━━━━━━━━━━\u001b[0m\u001b[37m\u001b[0m \u001b[1m3s\u001b[0m 3ms/step - accuracy: 0.4930 - loss: 1.0344 - val_accuracy: 0.4793 - val_loss: 1.0515\n"
          ]
        }
      ]
    },
    {
      "cell_type": "markdown",
      "source": [
        "#8. Evaluación"
      ],
      "metadata": {
        "id": "5NLa1NWgkGVl"
      }
    },
    {
      "cell_type": "code",
      "source": [
        "# ==============================\n",
        "# 8. Evaluación final\n",
        "# ==============================\n",
        "loss, acc = model.evaluate(\n",
        "    {\"sequential_input\": X_seq_test, \"static_input\": X_static_test}, y_test\n",
        ")\n",
        "print(f\"Test Loss: {loss:.4f}\")\n",
        "print(f\"Test Accuracy: {acc:.4f}\")\n"
      ],
      "metadata": {
        "colab": {
          "base_uri": "https://localhost:8080/"
        },
        "id": "Te8fn3Q1kJ5M",
        "outputId": "f49851b6-a388-4b5f-cb1f-939fa7d4bd6d"
      },
      "execution_count": 8,
      "outputs": [
        {
          "output_type": "stream",
          "name": "stdout",
          "text": [
            "\u001b[1m304/304\u001b[0m \u001b[32m━━━━━━━━━━━━━━━━━━━━\u001b[0m\u001b[37m\u001b[0m \u001b[1m1s\u001b[0m 2ms/step - accuracy: 0.4882 - loss: 1.0415\n",
            "Test Loss: 1.0472\n",
            "Test Accuracy: 0.4798\n"
          ]
        }
      ]
    },
    {
      "cell_type": "markdown",
      "source": [
        "#9. Curvas de Entrenamiento"
      ],
      "metadata": {
        "id": "K9WGkESVkPLN"
      }
    },
    {
      "cell_type": "code",
      "source": [
        "# ==============================\n",
        "# 9. Gráficas de pérdida y accuracy\n",
        "# ==============================\n",
        "plt.figure(figsize=(12,5))\n",
        "\n",
        "# Pérdida\n",
        "plt.subplot(1,2,1)\n",
        "plt.plot(history.history[\"loss\"], label=\"train\")\n",
        "plt.plot(history.history[\"val_loss\"], label=\"val\")\n",
        "plt.title(\"Pérdida\")\n",
        "plt.legend()\n",
        "\n",
        "# Accuracy\n",
        "plt.subplot(1,2,2)\n",
        "plt.plot(history.history[\"accuracy\"], label=\"train\")\n",
        "plt.plot(history.history[\"val_accuracy\"], label=\"val\")\n",
        "plt.title(\"Accuracy\")\n",
        "plt.legend()\n",
        "\n",
        "plt.show()\n"
      ],
      "metadata": {
        "colab": {
          "base_uri": "https://localhost:8080/",
          "height": 468
        },
        "id": "bUnp7ipZkTFN",
        "outputId": "46ca3012-fd4b-45ca-870a-a86ec6da4aa6"
      },
      "execution_count": 9,
      "outputs": [
        {
          "output_type": "display_data",
          "data": {
            "text/plain": [
              "<Figure size 1200x500 with 2 Axes>"
            ],
            "image/png": "[encoded data removed]"
          },
          "metadata": {}
        }
      ]
    },
    {
      "cell_type": "markdown",
      "source": [
        "#10. Guardado final del modelo (formato moderno)"
      ],
      "metadata": {
        "id": "RzrHetY4kZB9"
      }
    },
    {
      "cell_type": "code",
      "source": [
        "# ==============================\n",
        "# 10. Guardar modelo en formato moderno (.keras)\n",
        "# ==============================\n",
        "save_path = \"/content/drive/MyDrive/football_project/models/cnn_base_final.keras\"\n",
        "model.save(save_path)\n",
        "print(\"✅ Modelo guardado en:\", save_path)\n"
      ],
      "metadata": {
        "colab": {
          "base_uri": "https://localhost:8080/"
        },
        "id": "VEAk07TZkcxU",
        "outputId": "55064b23-2116-4f53-c3e4-253c9b41abbc"
      },
      "execution_count": 10,
      "outputs": [
        {
          "output_type": "stream",
          "name": "stdout",
          "text": [
            "✅ Modelo guardado en: /content/drive/MyDrive/football_project/models/cnn_base_final.keras\n"
          ]
        }
      ]
    },
    {
      "cell_type": "markdown",
      "source": [
        "#README.md (para carpeta 03/)"
      ],
      "metadata": {
        "id": "FItx6mrkkiRc"
      }
    },
    {
      "cell_type": "markdown",
      "source": [
        "# Notebook 03 - Arquitectura Base (CNN robusta)\n",
        "\n",
        "Este notebook implementa una CNN simple con datos secuenciales (`X_seq.npy`) y estáticos (`X_static.npy`) generados en el **Notebook 02 - Preprocesado**.  \n",
        "El objetivo es entrenar un modelo de línea base y guardar el resultado en formato moderno `.keras`.\n",
        "\n",
        "## Pasos principales:\n",
        "1. Montaje de Google Drive.\n",
        "2. Búsqueda automática de los arrays `.npy` en todo el Drive.\n",
        "3. División en train/test.\n",
        "4. Definición de modelo CNN + capas densas.\n",
        "5. Entrenamiento con callbacks (`EarlyStopping`, `ModelCheckpoint`).\n",
        "6. Evaluación y gráficas.\n",
        "7. Guardado reproducible del modelo en `models/cnn_base_final.keras`.\n",
        "\n",
        "## Requisitos previos\n",
        "- Haber ejecutado `02-preprocesado.ipynb` para generar los `.npy`.\n",
        "- Librerías: `numpy`, `matplotlib`, `tensorflow`, `scikit-learn`.\n",
        "\n",
        "## Salidas\n",
        "- Modelo entrenado guardado en:  \n"
      ],
      "metadata": {
        "id": "9h2K1yH3kmyN"
      }
    }
  ]
}