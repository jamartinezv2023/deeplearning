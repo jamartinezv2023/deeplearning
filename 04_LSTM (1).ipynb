{
  "nbformat": 4,
  "nbformat_minor": 0,
  "metadata": {
    "colab": {
      "provenance": []
    },
    "kernelspec": {
      "name": "python3",
      "display_name": "Python 3"
    },
    "language_info": {
      "name": "python"
    }
  },
  "cells": [
    {
      "cell_type": "markdown",
      "source": [
        "#Notebook 04-LSTM.ipynb (versión en celdas planas)"
      ],
      "metadata": {
        "id": "zdz2_fBHlo9D"
      }
    },
    {
      "cell_type": "code",
      "execution_count": 1,
      "metadata": {
        "colab": {
          "base_uri": "https://localhost:8080/"
        },
        "id": "jC-dsDMYlf2x",
        "outputId": "d5fa4cdc-1284-413a-c42a-be9cfa55ab62"
      },
      "outputs": [
        {
          "output_type": "stream",
          "name": "stdout",
          "text": [
            "Mounted at /content/drive\n"
          ]
        }
      ],
      "source": [
        "# ==============================\n",
        "# 1. Montaje de Drive y librerías\n",
        "# ==============================\n",
        "import os, glob\n",
        "import numpy as np\n",
        "import matplotlib.pyplot as plt\n",
        "\n",
        "import tensorflow as tf\n",
        "from tensorflow import keras\n",
        "from tensorflow.keras import layers\n",
        "from tensorflow.keras.callbacks import EarlyStopping, ModelCheckpoint\n",
        "\n",
        "from sklearn.model_selection import train_test_split\n",
        "from google.colab import drive\n",
        "\n",
        "drive.mount('/content/drive')\n"
      ]
    },
    {
      "cell_type": "code",
      "source": [
        "# ==============================\n",
        "# 2. Función para buscar los .npy en TODO el Drive\n",
        "# ==============================\n",
        "def find_npy(filename, base_dir=\"/content/drive/MyDrive\"):\n",
        "    matches = glob.glob(os.path.join(base_dir, \"**\", filename), recursive=True)\n",
        "    if not matches:\n",
        "        raise FileNotFoundError(f\"No se encontró {filename} en {base_dir}\")\n",
        "    return matches[0]\n",
        "\n",
        "X_seq_path = find_npy(\"X_seq.npy\")\n",
        "X_static_path = find_npy(\"X_static.npy\")\n",
        "y_path = find_npy(\"y.npy\")\n",
        "\n",
        "print(\"Archivos encontrados:\")\n",
        "print(\"X_seq:\", X_seq_path)\n",
        "print(\"X_static:\", X_static_path)\n",
        "print(\"y:\", y_path)\n"
      ],
      "metadata": {
        "id": "pTJzTt20l-Nr"
      },
      "execution_count": null,
      "outputs": []
    },
    {
      "cell_type": "code",
      "source": [
        "from google.colab import drive\n",
        "drive.mount('/content/drive')"
      ],
      "metadata": {
        "id": "dl-dQvdBf5P_"
      },
      "execution_count": null,
      "outputs": []
    },
    {
      "cell_type": "code",
      "source": [
        "# ==============================\n",
        "# 3. Cargar arrays procesados\n",
        "# ==============================\n",
        "X_seq = np.load(X_seq_path)        # (muestras, seq_len, 1)\n",
        "X_static = np.load(X_static_path)  # (muestras, n_features)\n",
        "y = np.load(y_path)                # (muestras,)\n",
        "\n",
        "print(\"Shapes:\")\n",
        "print(\"X_seq:\", X_seq.shape)\n",
        "print(\"X_static:\", X_static.shape)\n",
        "print(\"y:\", y.shape)\n"
      ],
      "metadata": {
        "colab": {
          "base_uri": "https://localhost:8080/"
        },
        "id": "gS1udSBzmIQq",
        "outputId": "66d71eb3-e0f1-40b3-fb97-741c29827582"
      },
      "execution_count": null,
      "outputs": [
        {
          "output_type": "stream",
          "name": "stdout",
          "text": [
            "Shapes:\n",
            "X_seq: (48532, 5, 1)\n",
            "X_static: (48532, 3)\n",
            "y: (48532,)\n"
          ]
        }
      ]
    },
    {
      "cell_type": "code",
      "source": [
        "# ==============================\n",
        "# 4. Split train/test\n",
        "# ==============================\n",
        "Xs_train, Xs_test, Xst_train, Xst_test, y_train, y_test = train_test_split(\n",
        "    X_seq, X_static, y, test_size=0.2, random_state=42, stratify=y\n",
        ")\n",
        "\n",
        "print(\"Train size:\", Xs_train.shape[0])\n",
        "print(\"Test size:\", Xs_test.shape[0])\n"
      ],
      "metadata": {
        "colab": {
          "base_uri": "https://localhost:8080/"
        },
        "id": "KwbbywJemQCZ",
        "outputId": "acde7a90-ac90-485c-c12f-a4cfab2ca9a8"
      },
      "execution_count": null,
      "outputs": [
        {
          "output_type": "stream",
          "name": "stdout",
          "text": [
            "Train size: 38825\n",
            "Test size: 9707\n"
          ]
        }
      ]
    },
    {
      "cell_type": "code",
      "source": [
        "# ==============================\n",
        "# 5. Definir arquitectura LSTM híbrida\n",
        "# ==============================\n",
        "\n",
        "# Entrada secuencial\n",
        "seq_input = keras.Input(shape=Xs_train.shape[1:], name=\"seq_input\")  # (seq_len, 1)\n",
        "x = layers.Masking()(seq_input)  # en caso de padding\n",
        "x = layers.LSTM(64, return_sequences=False)(x)\n",
        "x = layers.Dropout(0.3)(x)\n",
        "\n",
        "# Entrada estática\n",
        "static_input = keras.Input(shape=(Xst_train.shape[1],), name=\"static_input\")\n",
        "z = layers.Dense(32, activation=\"relu\")(static_input)\n",
        "\n",
        "# Concatenación\n",
        "concat = layers.concatenate([x, z])\n",
        "h = layers.Dense(64, activation=\"relu\")(concat)\n",
        "output = layers.Dense(len(np.unique(y)), activation=\"softmax\")(h)\n",
        "\n",
        "model_lstm = keras.Model(inputs=[seq_input, static_input], outputs=output)\n",
        "\n",
        "model_lstm.compile(\n",
        "    optimizer=\"adam\",\n",
        "    loss=\"sparse_categorical_crossentropy\",\n",
        "    metrics=[\"accuracy\"]\n",
        ")\n",
        "\n",
        "model_lstm.summary()\n"
      ],
      "metadata": {
        "colab": {
          "base_uri": "https://localhost:8080/",
          "height": 573
        },
        "id": "YoEU_dcUmVGx",
        "outputId": "65a09c85-9c9f-4e86-a585-a5a906b93748"
      },
      "execution_count": null,
      "outputs": [
        {
          "output_type": "display_data",
          "data": {
            "text/plain": [
              "\u001b[1mModel: \"functional\"\u001b[0m\n"
            ],
            "text/html": [
              "<pre style=\"white-space:pre;overflow-x:auto;line-height:normal;font-family:Menlo,'DejaVu Sans Mono',consolas,'Courier New',monospace\"><span style=\"font-weight: bold\">Model: \"functional\"</span>\n",
              "</pre>\n"
            ]
          },
          "metadata": {}
        },
        {
          "output_type": "display_data",
          "data": {
            "text/plain": [
              "┏━━━━━━━━━━━━━━━━━━━━━┳━━━━━━━━━━━━━━━━━━━┳━━━━━━━━━━━━┳━━━━━━━━━━━━━━━━━━━┓\n",
              "┃\u001b[1m \u001b[0m\u001b[1mLayer (type)       \u001b[0m\u001b[1m \u001b[0m┃\u001b[1m \u001b[0m\u001b[1mOutput Shape     \u001b[0m\u001b[1m \u001b[0m┃\u001b[1m \u001b[0m\u001b[1m   Param #\u001b[0m\u001b[1m \u001b[0m┃\u001b[1m \u001b[0m\u001b[1mConnected to     \u001b[0m\u001b[1m \u001b[0m┃\n",
              "┡━━━━━━━━━━━━━━━━━━━━━╇━━━━━━━━━━━━━━━━━━━╇━━━━━━━━━━━━╇━━━━━━━━━━━━━━━━━━━┩\n",
              "│ seq_input           │ (\u001b[38;5;45mNone\u001b[0m, \u001b[38;5;34m5\u001b[0m, \u001b[38;5;34m1\u001b[0m)      │          \u001b[38;5;34m0\u001b[0m │ -                 │\n",
              "│ (\u001b[38;5;33mInputLayer\u001b[0m)        │                   │            │                   │\n",
              "├─────────────────────┼───────────────────┼────────────┼───────────────────┤\n",
              "│ not_equal           │ (\u001b[38;5;45mNone\u001b[0m, \u001b[38;5;34m5\u001b[0m, \u001b[38;5;34m1\u001b[0m)      │          \u001b[38;5;34m0\u001b[0m │ seq_input[\u001b[38;5;34m0\u001b[0m][\u001b[38;5;34m0\u001b[0m]   │\n",
              "│ (\u001b[38;5;33mNotEqual\u001b[0m)          │                   │            │                   │\n",
              "├─────────────────────┼───────────────────┼────────────┼───────────────────┤\n",
              "│ masking (\u001b[38;5;33mMasking\u001b[0m)   │ (\u001b[38;5;45mNone\u001b[0m, \u001b[38;5;34m5\u001b[0m, \u001b[38;5;34m1\u001b[0m)      │          \u001b[38;5;34m0\u001b[0m │ seq_input[\u001b[38;5;34m0\u001b[0m][\u001b[38;5;34m0\u001b[0m]   │\n",
              "├─────────────────────┼───────────────────┼────────────┼───────────────────┤\n",
              "│ any (\u001b[38;5;33mAny\u001b[0m)           │ (\u001b[38;5;45mNone\u001b[0m, \u001b[38;5;34m5\u001b[0m)         │          \u001b[38;5;34m0\u001b[0m │ not_equal[\u001b[38;5;34m0\u001b[0m][\u001b[38;5;34m0\u001b[0m]   │\n",
              "├─────────────────────┼───────────────────┼────────────┼───────────────────┤\n",
              "│ lstm (\u001b[38;5;33mLSTM\u001b[0m)         │ (\u001b[38;5;45mNone\u001b[0m, \u001b[38;5;34m64\u001b[0m)        │     \u001b[38;5;34m16,896\u001b[0m │ masking[\u001b[38;5;34m0\u001b[0m][\u001b[38;5;34m0\u001b[0m],    │\n",
              "│                     │                   │            │ any[\u001b[38;5;34m0\u001b[0m][\u001b[38;5;34m0\u001b[0m]         │\n",
              "├─────────────────────┼───────────────────┼────────────┼───────────────────┤\n",
              "│ static_input        │ (\u001b[38;5;45mNone\u001b[0m, \u001b[38;5;34m3\u001b[0m)         │          \u001b[38;5;34m0\u001b[0m │ -                 │\n",
              "│ (\u001b[38;5;33mInputLayer\u001b[0m)        │                   │            │                   │\n",
              "├─────────────────────┼───────────────────┼────────────┼───────────────────┤\n",
              "│ dropout (\u001b[38;5;33mDropout\u001b[0m)   │ (\u001b[38;5;45mNone\u001b[0m, \u001b[38;5;34m64\u001b[0m)        │          \u001b[38;5;34m0\u001b[0m │ lstm[\u001b[38;5;34m0\u001b[0m][\u001b[38;5;34m0\u001b[0m]        │\n",
              "├─────────────────────┼───────────────────┼────────────┼───────────────────┤\n",
              "│ dense (\u001b[38;5;33mDense\u001b[0m)       │ (\u001b[38;5;45mNone\u001b[0m, \u001b[38;5;34m32\u001b[0m)        │        \u001b[38;5;34m128\u001b[0m │ static_input[\u001b[38;5;34m0\u001b[0m][\u001b[38;5;34m…\u001b[0m │\n",
              "├─────────────────────┼───────────────────┼────────────┼───────────────────┤\n",
              "│ concatenate         │ (\u001b[38;5;45mNone\u001b[0m, \u001b[38;5;34m96\u001b[0m)        │          \u001b[38;5;34m0\u001b[0m │ dropout[\u001b[38;5;34m0\u001b[0m][\u001b[38;5;34m0\u001b[0m],    │\n",
              "│ (\u001b[38;5;33mConcatenate\u001b[0m)       │                   │            │ dense[\u001b[38;5;34m0\u001b[0m][\u001b[38;5;34m0\u001b[0m]       │\n",
              "├─────────────────────┼───────────────────┼────────────┼───────────────────┤\n",
              "│ dense_1 (\u001b[38;5;33mDense\u001b[0m)     │ (\u001b[38;5;45mNone\u001b[0m, \u001b[38;5;34m64\u001b[0m)        │      \u001b[38;5;34m6,208\u001b[0m │ concatenate[\u001b[38;5;34m0\u001b[0m][\u001b[38;5;34m0\u001b[0m] │\n",
              "├─────────────────────┼───────────────────┼────────────┼───────────────────┤\n",
              "│ dense_2 (\u001b[38;5;33mDense\u001b[0m)     │ (\u001b[38;5;45mNone\u001b[0m, \u001b[38;5;34m3\u001b[0m)         │        \u001b[38;5;34m195\u001b[0m │ dense_1[\u001b[38;5;34m0\u001b[0m][\u001b[38;5;34m0\u001b[0m]     │\n",
              "└─────────────────────┴───────────────────┴────────────┴───────────────────┘\n"
            ],
            "text/html": [
              "<pre style=\"white-space:pre;overflow-x:auto;line-height:normal;font-family:Menlo,'DejaVu Sans Mono',consolas,'Courier New',monospace\">┏━━━━━━━━━━━━━━━━━━━━━┳━━━━━━━━━━━━━━━━━━━┳━━━━━━━━━━━━┳━━━━━━━━━━━━━━━━━━━┓\n",
              "┃<span style=\"font-weight: bold\"> Layer (type)        </span>┃<span style=\"font-weight: bold\"> Output Shape      </span>┃<span style=\"font-weight: bold\">    Param # </span>┃<span style=\"font-weight: bold\"> Connected to      </span>┃\n",
              "┡━━━━━━━━━━━━━━━━━━━━━╇━━━━━━━━━━━━━━━━━━━╇━━━━━━━━━━━━╇━━━━━━━━━━━━━━━━━━━┩\n",
              "│ seq_input           │ (<span style=\"color: #00d7ff; text-decoration-color: #00d7ff\">None</span>, <span style=\"color: #00af00; text-decoration-color: #00af00\">5</span>, <span style=\"color: #00af00; text-decoration-color: #00af00\">1</span>)      │          <span style=\"color: #00af00; text-decoration-color: #00af00\">0</span> │ -                 │\n",
              "│ (<span style=\"color: #0087ff; text-decoration-color: #0087ff\">InputLayer</span>)        │                   │            │                   │\n",
              "├─────────────────────┼───────────────────┼────────────┼───────────────────┤\n",
              "│ not_equal           │ (<span style=\"color: #00d7ff; text-decoration-color: #00d7ff\">None</span>, <span style=\"color: #00af00; text-decoration-color: #00af00\">5</span>, <span style=\"color: #00af00; text-decoration-color: #00af00\">1</span>)      │          <span style=\"color: #00af00; text-decoration-color: #00af00\">0</span> │ seq_input[<span style=\"color: #00af00; text-decoration-color: #00af00\">0</span>][<span style=\"color: #00af00; text-decoration-color: #00af00\">0</span>]   │\n",
              "│ (<span style=\"color: #0087ff; text-decoration-color: #0087ff\">NotEqual</span>)          │                   │            │                   │\n",
              "├─────────────────────┼───────────────────┼────────────┼───────────────────┤\n",
              "│ masking (<span style=\"color: #0087ff; text-decoration-color: #0087ff\">Masking</span>)   │ (<span style=\"color: #00d7ff; text-decoration-color: #00d7ff\">None</span>, <span style=\"color: #00af00; text-decoration-color: #00af00\">5</span>, <span style=\"color: #00af00; text-decoration-color: #00af00\">1</span>)      │          <span style=\"color: #00af00; text-decoration-color: #00af00\">0</span> │ seq_input[<span style=\"color: #00af00; text-decoration-color: #00af00\">0</span>][<span style=\"color: #00af00; text-decoration-color: #00af00\">0</span>]   │\n",
              "├─────────────────────┼───────────────────┼────────────┼───────────────────┤\n",
              "│ any (<span style=\"color: #0087ff; text-decoration-color: #0087ff\">Any</span>)           │ (<span style=\"color: #00d7ff; text-decoration-color: #00d7ff\">None</span>, <span style=\"color: #00af00; text-decoration-color: #00af00\">5</span>)         │          <span style=\"color: #00af00; text-decoration-color: #00af00\">0</span> │ not_equal[<span style=\"color: #00af00; text-decoration-color: #00af00\">0</span>][<span style=\"color: #00af00; text-decoration-color: #00af00\">0</span>]   │\n",
              "├─────────────────────┼───────────────────┼────────────┼───────────────────┤\n",
              "│ lstm (<span style=\"color: #0087ff; text-decoration-color: #0087ff\">LSTM</span>)         │ (<span style=\"color: #00d7ff; text-decoration-color: #00d7ff\">None</span>, <span style=\"color: #00af00; text-decoration-color: #00af00\">64</span>)        │     <span style=\"color: #00af00; text-decoration-color: #00af00\">16,896</span> │ masking[<span style=\"color: #00af00; text-decoration-color: #00af00\">0</span>][<span style=\"color: #00af00; text-decoration-color: #00af00\">0</span>],    │\n",
              "│                     │                   │            │ any[<span style=\"color: #00af00; text-decoration-color: #00af00\">0</span>][<span style=\"color: #00af00; text-decoration-color: #00af00\">0</span>]         │\n",
              "├─────────────────────┼───────────────────┼────────────┼───────────────────┤\n",
              "│ static_input        │ (<span style=\"color: #00d7ff; text-decoration-color: #00d7ff\">None</span>, <span style=\"color: #00af00; text-decoration-color: #00af00\">3</span>)         │          <span style=\"color: #00af00; text-decoration-color: #00af00\">0</span> │ -                 │\n",
              "│ (<span style=\"color: #0087ff; text-decoration-color: #0087ff\">InputLayer</span>)        │                   │            │                   │\n",
              "├─────────────────────┼───────────────────┼────────────┼───────────────────┤\n",
              "│ dropout (<span style=\"color: #0087ff; text-decoration-color: #0087ff\">Dropout</span>)   │ (<span style=\"color: #00d7ff; text-decoration-color: #00d7ff\">None</span>, <span style=\"color: #00af00; text-decoration-color: #00af00\">64</span>)        │          <span style=\"color: #00af00; text-decoration-color: #00af00\">0</span> │ lstm[<span style=\"color: #00af00; text-decoration-color: #00af00\">0</span>][<span style=\"color: #00af00; text-decoration-color: #00af00\">0</span>]        │\n",
              "├─────────────────────┼───────────────────┼────────────┼───────────────────┤\n",
              "│ dense (<span style=\"color: #0087ff; text-decoration-color: #0087ff\">Dense</span>)       │ (<span style=\"color: #00d7ff; text-decoration-color: #00d7ff\">None</span>, <span style=\"color: #00af00; text-decoration-color: #00af00\">32</span>)        │        <span style=\"color: #00af00; text-decoration-color: #00af00\">128</span> │ static_input[<span style=\"color: #00af00; text-decoration-color: #00af00\">0</span>][<span style=\"color: #00af00; text-decoration-color: #00af00\">…</span> │\n",
              "├─────────────────────┼───────────────────┼────────────┼───────────────────┤\n",
              "│ concatenate         │ (<span style=\"color: #00d7ff; text-decoration-color: #00d7ff\">None</span>, <span style=\"color: #00af00; text-decoration-color: #00af00\">96</span>)        │          <span style=\"color: #00af00; text-decoration-color: #00af00\">0</span> │ dropout[<span style=\"color: #00af00; text-decoration-color: #00af00\">0</span>][<span style=\"color: #00af00; text-decoration-color: #00af00\">0</span>],    │\n",
              "│ (<span style=\"color: #0087ff; text-decoration-color: #0087ff\">Concatenate</span>)       │                   │            │ dense[<span style=\"color: #00af00; text-decoration-color: #00af00\">0</span>][<span style=\"color: #00af00; text-decoration-color: #00af00\">0</span>]       │\n",
              "├─────────────────────┼───────────────────┼────────────┼───────────────────┤\n",
              "│ dense_1 (<span style=\"color: #0087ff; text-decoration-color: #0087ff\">Dense</span>)     │ (<span style=\"color: #00d7ff; text-decoration-color: #00d7ff\">None</span>, <span style=\"color: #00af00; text-decoration-color: #00af00\">64</span>)        │      <span style=\"color: #00af00; text-decoration-color: #00af00\">6,208</span> │ concatenate[<span style=\"color: #00af00; text-decoration-color: #00af00\">0</span>][<span style=\"color: #00af00; text-decoration-color: #00af00\">0</span>] │\n",
              "├─────────────────────┼───────────────────┼────────────┼───────────────────┤\n",
              "│ dense_2 (<span style=\"color: #0087ff; text-decoration-color: #0087ff\">Dense</span>)     │ (<span style=\"color: #00d7ff; text-decoration-color: #00d7ff\">None</span>, <span style=\"color: #00af00; text-decoration-color: #00af00\">3</span>)         │        <span style=\"color: #00af00; text-decoration-color: #00af00\">195</span> │ dense_1[<span style=\"color: #00af00; text-decoration-color: #00af00\">0</span>][<span style=\"color: #00af00; text-decoration-color: #00af00\">0</span>]     │\n",
              "└─────────────────────┴───────────────────┴────────────┴───────────────────┘\n",
              "</pre>\n"
            ]
          },
          "metadata": {}
        },
        {
          "output_type": "display_data",
          "data": {
            "text/plain": [
              "\u001b[1m Total params: \u001b[0m\u001b[38;5;34m23,427\u001b[0m (91.51 KB)\n"
            ],
            "text/html": [
              "<pre style=\"white-space:pre;overflow-x:auto;line-height:normal;font-family:Menlo,'DejaVu Sans Mono',consolas,'Courier New',monospace\"><span style=\"font-weight: bold\"> Total params: </span><span style=\"color: #00af00; text-decoration-color: #00af00\">23,427</span> (91.51 KB)\n",
              "</pre>\n"
            ]
          },
          "metadata": {}
        },
        {
          "output_type": "display_data",
          "data": {
            "text/plain": [
              "\u001b[1m Trainable params: \u001b[0m\u001b[38;5;34m23,427\u001b[0m (91.51 KB)\n"
            ],
            "text/html": [
              "<pre style=\"white-space:pre;overflow-x:auto;line-height:normal;font-family:Menlo,'DejaVu Sans Mono',consolas,'Courier New',monospace\"><span style=\"font-weight: bold\"> Trainable params: </span><span style=\"color: #00af00; text-decoration-color: #00af00\">23,427</span> (91.51 KB)\n",
              "</pre>\n"
            ]
          },
          "metadata": {}
        },
        {
          "output_type": "display_data",
          "data": {
            "text/plain": [
              "\u001b[1m Non-trainable params: \u001b[0m\u001b[38;5;34m0\u001b[0m (0.00 B)\n"
            ],
            "text/html": [
              "<pre style=\"white-space:pre;overflow-x:auto;line-height:normal;font-family:Menlo,'DejaVu Sans Mono',consolas,'Courier New',monospace\"><span style=\"font-weight: bold\"> Non-trainable params: </span><span style=\"color: #00af00; text-decoration-color: #00af00\">0</span> (0.00 B)\n",
              "</pre>\n"
            ]
          },
          "metadata": {}
        }
      ]
    },
    {
      "cell_type": "code",
      "source": [
        "# ==============================\n",
        "# 6. Callbacks y entrenamiento\n",
        "# ==============================\n",
        "save_dir = \"/content/drive/MyDrive/football_project/models\"\n",
        "os.makedirs(save_dir, exist_ok=True)\n",
        "\n",
        "checkpoint_path = os.path.join(save_dir, \"lstm_best.keras\")\n",
        "\n",
        "callbacks = [\n",
        "    EarlyStopping(patience=5, restore_best_weights=True),\n",
        "    ModelCheckpoint(checkpoint_path, save_best_only=True)\n",
        "]\n",
        "\n",
        "history = model_lstm.fit(\n",
        "    [Xs_train, Xst_train], y_train,\n",
        "    validation_split=0.2,\n",
        "    epochs=50,\n",
        "    batch_size=128,\n",
        "    callbacks=callbacks,\n",
        "    verbose=1\n",
        ")\n",
        "\n",
        "print(f\"✅ Modelo guardado en {checkpoint_path}\")\n"
      ],
      "metadata": {
        "colab": {
          "base_uri": "https://localhost:8080/"
        },
        "id": "VHSfr9QtmZOx",
        "outputId": "e62cfc8d-d3f5-4b66-9782-530ed2a01b43"
      },
      "execution_count": null,
      "outputs": [
        {
          "output_type": "stream",
          "name": "stdout",
          "text": [
            "Epoch 1/50\n",
            "\u001b[1m243/243\u001b[0m \u001b[32m━━━━━━━━━━━━━━━━━━━━\u001b[0m\u001b[37m\u001b[0m \u001b[1m7s\u001b[0m 15ms/step - accuracy: 0.4800 - loss: 1.0523 - val_accuracy: 0.4921 - val_loss: 1.0404\n",
            "Epoch 2/50\n",
            "\u001b[1m243/243\u001b[0m \u001b[32m━━━━━━━━━━━━━━━━━━━━\u001b[0m\u001b[37m\u001b[0m \u001b[1m5s\u001b[0m 21ms/step - accuracy: 0.4910 - loss: 1.0408 - val_accuracy: 0.4917 - val_loss: 1.0404\n",
            "Epoch 3/50\n",
            "\u001b[1m243/243\u001b[0m \u001b[32m━━━━━━━━━━━━━━━━━━━━\u001b[0m\u001b[37m\u001b[0m \u001b[1m3s\u001b[0m 13ms/step - accuracy: 0.4872 - loss: 1.0418 - val_accuracy: 0.4909 - val_loss: 1.0409\n",
            "Epoch 4/50\n",
            "\u001b[1m243/243\u001b[0m \u001b[32m━━━━━━━━━━━━━━━━━━━━\u001b[0m\u001b[37m\u001b[0m \u001b[1m3s\u001b[0m 13ms/step - accuracy: 0.4865 - loss: 1.0427 - val_accuracy: 0.4892 - val_loss: 1.0404\n",
            "Epoch 5/50\n",
            "\u001b[1m243/243\u001b[0m \u001b[32m━━━━━━━━━━━━━━━━━━━━\u001b[0m\u001b[37m\u001b[0m \u001b[1m3s\u001b[0m 13ms/step - accuracy: 0.4886 - loss: 1.0398 - val_accuracy: 0.4922 - val_loss: 1.0406\n",
            "Epoch 6/50\n",
            "\u001b[1m243/243\u001b[0m \u001b[32m━━━━━━━━━━━━━━━━━━━━\u001b[0m\u001b[37m\u001b[0m \u001b[1m5s\u001b[0m 22ms/step - accuracy: 0.4887 - loss: 1.0405 - val_accuracy: 0.4910 - val_loss: 1.0401\n",
            "Epoch 7/50\n",
            "\u001b[1m243/243\u001b[0m \u001b[32m━━━━━━━━━━━━━━━━━━━━\u001b[0m\u001b[37m\u001b[0m \u001b[1m8s\u001b[0m 14ms/step - accuracy: 0.4886 - loss: 1.0395 - val_accuracy: 0.4908 - val_loss: 1.0397\n",
            "Epoch 8/50\n",
            "\u001b[1m243/243\u001b[0m \u001b[32m━━━━━━━━━━━━━━━━━━━━\u001b[0m\u001b[37m\u001b[0m \u001b[1m5s\u001b[0m 20ms/step - accuracy: 0.4900 - loss: 1.0387 - val_accuracy: 0.4904 - val_loss: 1.0405\n",
            "Epoch 9/50\n",
            "\u001b[1m243/243\u001b[0m \u001b[32m━━━━━━━━━━━━━━━━━━━━\u001b[0m\u001b[37m\u001b[0m \u001b[1m3s\u001b[0m 14ms/step - accuracy: 0.4938 - loss: 1.0362 - val_accuracy: 0.4923 - val_loss: 1.0397\n",
            "Epoch 10/50\n",
            "\u001b[1m243/243\u001b[0m \u001b[32m━━━━━━━━━━━━━━━━━━━━\u001b[0m\u001b[37m\u001b[0m \u001b[1m3s\u001b[0m 14ms/step - accuracy: 0.4847 - loss: 1.0426 - val_accuracy: 0.4922 - val_loss: 1.0403\n",
            "Epoch 11/50\n",
            "\u001b[1m243/243\u001b[0m \u001b[32m━━━━━━━━━━━━━━━━━━━━\u001b[0m\u001b[37m\u001b[0m \u001b[1m3s\u001b[0m 13ms/step - accuracy: 0.4934 - loss: 1.0364 - val_accuracy: 0.4909 - val_loss: 1.0398\n",
            "Epoch 12/50\n",
            "\u001b[1m243/243\u001b[0m \u001b[32m━━━━━━━━━━━━━━━━━━━━\u001b[0m\u001b[37m\u001b[0m \u001b[1m5s\u001b[0m 21ms/step - accuracy: 0.4929 - loss: 1.0369 - val_accuracy: 0.4895 - val_loss: 1.0405\n",
            "Epoch 13/50\n",
            "\u001b[1m243/243\u001b[0m \u001b[32m━━━━━━━━━━━━━━━━━━━━\u001b[0m\u001b[37m\u001b[0m \u001b[1m3s\u001b[0m 13ms/step - accuracy: 0.4901 - loss: 1.0382 - val_accuracy: 0.4921 - val_loss: 1.0391\n",
            "Epoch 14/50\n",
            "\u001b[1m243/243\u001b[0m \u001b[32m━━━━━━━━━━━━━━━━━━━━\u001b[0m\u001b[37m\u001b[0m \u001b[1m3s\u001b[0m 14ms/step - accuracy: 0.4920 - loss: 1.0348 - val_accuracy: 0.4909 - val_loss: 1.0396\n",
            "Epoch 15/50\n",
            "\u001b[1m243/243\u001b[0m \u001b[32m━━━━━━━━━━━━━━━━━━━━\u001b[0m\u001b[37m\u001b[0m \u001b[1m3s\u001b[0m 13ms/step - accuracy: 0.4924 - loss: 1.0357 - val_accuracy: 0.4901 - val_loss: 1.0399\n",
            "Epoch 16/50\n",
            "\u001b[1m243/243\u001b[0m \u001b[32m━━━━━━━━━━━━━━━━━━━━\u001b[0m\u001b[37m\u001b[0m \u001b[1m5s\u001b[0m 21ms/step - accuracy: 0.4894 - loss: 1.0375 - val_accuracy: 0.4913 - val_loss: 1.0398\n",
            "Epoch 17/50\n",
            "\u001b[1m243/243\u001b[0m \u001b[32m━━━━━━━━━━━━━━━━━━━━\u001b[0m\u001b[37m\u001b[0m \u001b[1m3s\u001b[0m 13ms/step - accuracy: 0.4868 - loss: 1.0389 - val_accuracy: 0.4908 - val_loss: 1.0398\n",
            "Epoch 18/50\n",
            "\u001b[1m243/243\u001b[0m \u001b[32m━━━━━━━━━━━━━━━━━━━━\u001b[0m\u001b[37m\u001b[0m \u001b[1m3s\u001b[0m 13ms/step - accuracy: 0.4894 - loss: 1.0379 - val_accuracy: 0.4900 - val_loss: 1.0392\n",
            "✅ Modelo guardado en /content/drive/MyDrive/football_project/models/lstm_best.keras\n"
          ]
        }
      ]
    },
    {
      "cell_type": "code",
      "source": [
        "# ==============================\n",
        "# 7. Evaluación en test\n",
        "# ==============================\n",
        "test_loss, test_acc = model_lstm.evaluate([Xs_test, Xst_test], y_test, verbose=0)\n",
        "print(\"Test Loss:\", test_loss)\n",
        "print(\"Test Accuracy:\", test_acc)\n"
      ],
      "metadata": {
        "colab": {
          "base_uri": "https://localhost:8080/"
        },
        "id": "h0yCtnebmc7x",
        "outputId": "2864ec0b-32aa-4629-a2a9-7f527e93bd2e"
      },
      "execution_count": null,
      "outputs": [
        {
          "output_type": "stream",
          "name": "stdout",
          "text": [
            "Test Loss: 1.038805365562439\n",
            "Test Accuracy: 0.48882248997688293\n"
          ]
        }
      ]
    },
    {
      "cell_type": "code",
      "source": [
        "# ==============================\n",
        "# 8. Curvas de entrenamiento\n",
        "# ==============================\n",
        "plt.figure(figsize=(12,5))\n",
        "\n",
        "plt.subplot(1,2,1)\n",
        "plt.plot(history.history['loss'], label=\"Train Loss\")\n",
        "plt.plot(history.history['val_loss'], label=\"Val Loss\")\n",
        "plt.xlabel(\"Epochs\"); plt.ylabel(\"Loss\"); plt.legend(); plt.title(\"Loss Curve\")\n",
        "\n",
        "plt.subplot(1,2,2)\n",
        "plt.plot(history.history['accuracy'], label=\"Train Acc\")\n",
        "plt.plot(history.history['val_accuracy'], label=\"Val Acc\")\n",
        "plt.xlabel(\"Epochs\"); plt.ylabel(\"Accuracy\"); plt.legend(); plt.title(\"Accuracy Curve\")\n",
        "\n",
        "plt.show()\n"
      ],
      "metadata": {
        "colab": {
          "base_uri": "https://localhost:8080/",
          "height": 487
        },
        "id": "xIe05nhjmgfp",
        "outputId": "60f75dc3-dcbf-46f1-e0a1-4269502034ce"
      },
      "execution_count": null,
      "outputs": [
        {
          "output_type": "display_data",
          "data": {
            "text/plain": [
              "<Figure size 1200x500 with 2 Axes>"
            ],
            "image/png": "[encoded data removed]"
          },
          "metadata": {}
        }
      ]
    },
    {
      "cell_type": "markdown",
      "source": [
        "#README.md (para carpeta 04/)"
      ],
      "metadata": {
        "id": "cwAVXxNUmu1Q"
      }
    },
    {
      "cell_type": "markdown",
      "source": [
        "# 📘 Notebook 04 - LSTM híbrido\n",
        "\n",
        "Este notebook implementa un modelo de **Red Neuronal LSTM** para procesar secuencias de eventos de un partido de fútbol, complementadas con información estática del contexto del jugador/equipo.\n",
        "\n",
        "---\n",
        "\n",
        "## 📂 Contenido\n",
        "\n",
        "- `04-LSTM.ipynb` → Notebook en Google Colab con el modelo híbrido.\n",
        "- Modelos entrenados se guardarán automáticamente en:\n",
        "\n",
        "##/MyDrive/football_project/models/lstm_best.keras\n",
        "\n",
        "\n",
        "\n",
        "---\n",
        "\n",
        "## 🔧 Dependencias\n",
        "\n",
        "El notebook está preparado para Google Colab con las siguientes librerías principales:\n",
        "\n",
        "- `numpy`\n",
        "- `matplotlib`\n",
        "- `scikit-learn`\n",
        "- `tensorflow` (>= 2.12)\n",
        "- `google.colab` (para montar Drive)\n",
        "\n",
        "No necesitas instalar nada extra en Colab.\n",
        "\n",
        "---\n",
        "\n",
        "## 📊 Datos de entrada\n",
        "\n",
        "El notebook busca automáticamente los arrays `.npy` en tu Google Drive:\n",
        "\n",
        "- `X_seq.npy` → Secuencias de longitud fija con 1 canal.  \n",
        "**Shape esperado**: `(muestras, seq_len, 1)`\n",
        "\n",
        "- `X_static.npy` → Atributos estáticos complementarios (ej: edad, rol, equipo).  \n",
        "**Shape esperado**: `(muestras, n_features)`\n",
        "\n",
        "- `y.npy` → Etiquetas de salida (codificadas como enteros).  \n",
        "**Shape esperado**: `(muestras,)`\n",
        "\n",
        "---\n",
        "\n",
        "## 🧠 Modelo LSTM híbrido\n",
        "\n",
        "El modelo combina:\n",
        "\n",
        "1. **Entrada secuencial (X_seq)**  \n",
        " - `Masking` (manejo de padding)  \n",
        " - `LSTM(64)`  \n",
        " - `Dropout(0.3)`\n",
        "\n",
        "2. **Entrada estática (X_static)**  \n",
        " - `Dense(32, relu)`\n",
        "\n",
        "3. **Concatenación**  \n",
        " - `Dense(64, relu)`  \n",
        " - `Dense(#clases, softmax)`\n",
        "\n",
        "**Compilación**:  \n",
        "```python\n",
        "optimizer=\"adam\"\n",
        "loss=\"sparse_categorical_crossentropy\"\n",
        "metrics=[\"accuracy\"]\n"
      ],
      "metadata": {
        "id": "GCTbIQVbm1dQ"
      }
    },
    {
      "cell_type": "markdown",
      "source": [
        "#📄 README.md (versión extendida con diagrama)"
      ],
      "metadata": {
        "id": "_qil3WztoVct"
      }
    },
    {
      "cell_type": "markdown",
      "source": [
        "# 📘 Notebook 04 - LSTM híbrido\n",
        "\n",
        "Este notebook implementa un modelo de **Red Neuronal LSTM** para procesar secuencias de eventos de un partido de fútbol, complementadas con información estática del contexto del jugador/equipo.\n",
        "\n",
        "---\n",
        "\n",
        "## 📂 Contenido\n",
        "\n",
        "- `04-LSTM.ipynb` → Notebook en Google Colab con el modelo híbrido.\n",
        "- Modelos entrenados se guardarán automáticamente en:\n",
        "##/MyDrive/football_project/models/lstm_best.keras\n",
        "\n",
        "\n",
        "---\n",
        "\n",
        "## 🔧 Dependencias\n",
        "\n",
        "El notebook está preparado para Google Colab con las siguientes librerías principales:\n",
        "\n",
        "- `numpy`\n",
        "- `matplotlib`\n",
        "- `scikit-learn`\n",
        "- `tensorflow` (>= 2.12)\n",
        "- `google.colab` (para montar Drive)\n",
        "\n",
        "No necesitas instalar nada extra en Colab.\n",
        "\n",
        "---\n",
        "\n",
        "## 📊 Datos de entrada\n",
        "\n",
        "El notebook busca automáticamente los arrays `.npy` en tu Google Drive:\n",
        "\n",
        "- `X_seq.npy` → Secuencias de longitud fija con 1 canal.  \n",
        "**Shape esperado**: `(muestras, seq_len, 1)`\n",
        "\n",
        "- `X_static.npy` → Atributos estáticos complementarios (ej: edad, rol, equipo).  \n",
        "**Shape esperado**: `(muestras, n_features)`\n",
        "\n",
        "- `y.npy` → Etiquetas de salida (codificadas como enteros).  \n",
        "**Shape esperado**: `(muestras,)`\n",
        "\n",
        "---\n",
        "\n",
        "## 🧠 Modelo LSTM híbrido\n",
        "\n",
        "El modelo combina dos entradas:\n",
        "\n",
        "```mermaid\n",
        "flowchart LR\n",
        "  A[📥 X_seq.npy (secuencia)] --> B[LSTM Layer]\n",
        "  B --> C[Vector secuencial]\n",
        "\n",
        "  D[📥 X_static.npy (atributos)] --> E[Dense Layer]\n",
        "  E --> F[Vector estático]\n",
        "\n",
        "  C --> G[Concatenación]\n",
        "  F --> G\n",
        "\n",
        "  G --> H[Dense 64 ReLU]\n",
        "  H --> I[Dense softmax (clases)]\n",
        "  I --> J[📤 y (predicción)]\n"
      ],
      "metadata": {
        "id": "-emlJIABoan1"
      }
    }
  ]
}