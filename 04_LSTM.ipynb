{
  "nbformat": 4,
  "nbformat_minor": 0,
  "metadata": {
    "colab": {
      "provenance": []
    },
    "kernelspec": {
      "name": "python3",
      "display_name": "Python 3"
    },
    "language_info": {
      "name": "python"
    }
  },
  "cells": [
    {
      "cell_type": "markdown",
      "source": [
        "#Notebook 04-LSTM.ipynb (versión en celdas planas)"
      ],
      "metadata": {
        "id": "zdz2_fBHlo9D"
      }
    },
    {
      "cell_type": "code",
      "execution_count": 1,
      "metadata": {
        "colab": {
          "base_uri": "https://localhost:8080/"
        },
        "id": "jC-dsDMYlf2x",
        "outputId": "856ed94b-5b76-4925-c045-4b6c7a72528f"
      },
      "outputs": [
        {
          "output_type": "stream",
          "name": "stdout",
          "text": [
            "Mounted at /content/drive\n"
          ]
        }
      ],
      "source": [
        "# ==============================\n",
        "# 1. Montaje de Drive y librerías\n",
        "# ==============================\n",
        "import os, glob\n",
        "import numpy as np\n",
        "import matplotlib.pyplot as plt\n",
        "\n",
        "import tensorflow as tf\n",
        "from tensorflow import keras\n",
        "from tensorflow.keras import layers\n",
        "from tensorflow.keras.callbacks import EarlyStopping, ModelCheckpoint\n",
        "\n",
        "from sklearn.model_selection import train_test_split\n",
        "from google.colab import drive\n",
        "\n",
        "drive.mount('/content/drive')\n"
      ]
    },
    {
      "cell_type": "code",
      "source": [
        "# ==============================\n",
        "# 2. Función para buscar los .npy en TODO el Drive\n",
        "# ==============================\n",
        "def find_npy(filename, base_dir=\"/content/drive/MyDrive\"):\n",
        "    matches = glob.glob(os.path.join(base_dir, \"**\", filename), recursive=True)\n",
        "    if not matches:\n",
        "        raise FileNotFoundError(f\"No se encontró {filename} en {base_dir}\")\n",
        "    return matches[0]\n",
        "\n",
        "X_seq_path = find_npy(\"X_seq.npy\")\n",
        "X_static_path = find_npy(\"X_static.npy\")\n",
        "y_path = find_npy(\"y.npy\")\n",
        "\n",
        "print(\"Archivos encontrados:\")\n",
        "print(\"X_seq:\", X_seq_path)\n",
        "print(\"X_static:\", X_static_path)\n",
        "print(\"y:\", y_path)\n"
      ],
      "metadata": {
        "id": "pTJzTt20l-Nr"
      },
      "execution_count": null,
      "outputs": []
    },
    {
      "cell_type": "code",
      "source": [
        "# ==============================\n",
        "# 3. Cargar arrays procesados\n",
        "# ==============================\n",
        "X_seq = np.load(X_seq_path)        # (muestras, seq_len, 1)\n",
        "X_static = np.load(X_static_path)  # (muestras, n_features)\n",
        "y = np.load(y_path)                # (muestras,)\n",
        "\n",
        "print(\"Shapes:\")\n",
        "print(\"X_seq:\", X_seq.shape)\n",
        "print(\"X_static:\", X_static.shape)\n",
        "print(\"y:\", y.shape)\n"
      ],
      "metadata": {
        "id": "gS1udSBzmIQq"
      },
      "execution_count": null,
      "outputs": []
    },
    {
      "cell_type": "code",
      "source": [
        "# ==============================\n",
        "# 4. Split train/test\n",
        "# ==============================\n",
        "Xs_train, Xs_test, Xst_train, Xst_test, y_train, y_test = train_test_split(\n",
        "    X_seq, X_static, y, test_size=0.2, random_state=42, stratify=y\n",
        ")\n",
        "\n",
        "print(\"Train size:\", Xs_train.shape[0])\n",
        "print(\"Test size:\", Xs_test.shape[0])\n"
      ],
      "metadata": {
        "id": "KwbbywJemQCZ"
      },
      "execution_count": null,
      "outputs": []
    },
    {
      "cell_type": "code",
      "source": [
        "# ==============================\n",
        "# 5. Definir arquitectura LSTM híbrida\n",
        "# ==============================\n",
        "\n",
        "# Entrada secuencial\n",
        "seq_input = keras.Input(shape=Xs_train.shape[1:], name=\"seq_input\")  # (seq_len, 1)\n",
        "x = layers.Masking()(seq_input)  # en caso de padding\n",
        "x = layers.LSTM(64, return_sequences=False)(x)\n",
        "x = layers.Dropout(0.3)(x)\n",
        "\n",
        "# Entrada estática\n",
        "static_input = keras.Input(shape=(Xst_train.shape[1],), name=\"static_input\")\n",
        "z = layers.Dense(32, activation=\"relu\")(static_input)\n",
        "\n",
        "# Concatenación\n",
        "concat = layers.concatenate([x, z])\n",
        "h = layers.Dense(64, activation=\"relu\")(concat)\n",
        "output = layers.Dense(len(np.unique(y)), activation=\"softmax\")(h)\n",
        "\n",
        "model_lstm = keras.Model(inputs=[seq_input, static_input], outputs=output)\n",
        "\n",
        "model_lstm.compile(\n",
        "    optimizer=\"adam\",\n",
        "    loss=\"sparse_categorical_crossentropy\",\n",
        "    metrics=[\"accuracy\"]\n",
        ")\n",
        "\n",
        "model_lstm.summary()\n"
      ],
      "metadata": {
        "id": "YoEU_dcUmVGx"
      },
      "execution_count": null,
      "outputs": []
    },
    {
      "cell_type": "code",
      "source": [
        "# ==============================\n",
        "# 6. Callbacks y entrenamiento\n",
        "# ==============================\n",
        "save_dir = \"/content/drive/MyDrive/football_project/models\"\n",
        "os.makedirs(save_dir, exist_ok=True)\n",
        "\n",
        "checkpoint_path = os.path.join(save_dir, \"lstm_best.keras\")\n",
        "\n",
        "callbacks = [\n",
        "    EarlyStopping(patience=5, restore_best_weights=True),\n",
        "    ModelCheckpoint(checkpoint_path, save_best_only=True)\n",
        "]\n",
        "\n",
        "history = model_lstm.fit(\n",
        "    [Xs_train, Xst_train], y_train,\n",
        "    validation_split=0.2,\n",
        "    epochs=50,\n",
        "    batch_size=128,\n",
        "    callbacks=callbacks,\n",
        "    verbose=1\n",
        ")\n",
        "\n",
        "print(f\"✅ Modelo guardado en {checkpoint_path}\")\n"
      ],
      "metadata": {
        "id": "VHSfr9QtmZOx"
      },
      "execution_count": null,
      "outputs": []
    },
    {
      "cell_type": "code",
      "source": [
        "# ==============================\n",
        "# 7. Evaluación en test\n",
        "# ==============================\n",
        "test_loss, test_acc = model_lstm.evaluate([Xs_test, Xst_test], y_test, verbose=0)\n",
        "print(\"Test Loss:\", test_loss)\n",
        "print(\"Test Accuracy:\", test_acc)\n"
      ],
      "metadata": {
        "id": "h0yCtnebmc7x"
      },
      "execution_count": null,
      "outputs": []
    },
    {
      "cell_type": "code",
      "source": [
        "# ==============================\n",
        "# 8. Curvas de entrenamiento\n",
        "# ==============================\n",
        "plt.figure(figsize=(12,5))\n",
        "\n",
        "plt.subplot(1,2,1)\n",
        "plt.plot(history.history['loss'], label=\"Train Loss\")\n",
        "plt.plot(history.history['val_loss'], label=\"Val Loss\")\n",
        "plt.xlabel(\"Epochs\"); plt.ylabel(\"Loss\"); plt.legend(); plt.title(\"Loss Curve\")\n",
        "\n",
        "plt.subplot(1,2,2)\n",
        "plt.plot(history.history['accuracy'], label=\"Train Acc\")\n",
        "plt.plot(history.history['val_accuracy'], label=\"Val Acc\")\n",
        "plt.xlabel(\"Epochs\"); plt.ylabel(\"Accuracy\"); plt.legend(); plt.title(\"Accuracy Curve\")\n",
        "\n",
        "plt.show()\n"
      ],
      "metadata": {
        "id": "xIe05nhjmgfp"
      },
      "execution_count": null,
      "outputs": []
    },
    {
      "cell_type": "markdown",
      "source": [
        "#README.md (para carpeta 04/)"
      ],
      "metadata": {
        "id": "cwAVXxNUmu1Q"
      }
    },
    {
      "cell_type": "markdown",
      "source": [
        "# 📘 Notebook 04 - LSTM híbrido\n",
        "\n",
        "Este notebook implementa un modelo de **Red Neuronal LSTM** para procesar secuencias de eventos de un partido de fútbol, complementadas con información estática del contexto del jugador/equipo.\n",
        "\n",
        "---\n",
        "\n",
        "## 📂 Contenido\n",
        "\n",
        "- `04-LSTM.ipynb` → Notebook en Google Colab con el modelo híbrido.\n",
        "- Modelos entrenados se guardarán automáticamente en:\n",
        "\n",
        "##/MyDrive/football_project/models/lstm_best.keras\n",
        "\n",
        "\n",
        "\n",
        "---\n",
        "\n",
        "## 🔧 Dependencias\n",
        "\n",
        "El notebook está preparado para Google Colab con las siguientes librerías principales:\n",
        "\n",
        "- `numpy`\n",
        "- `matplotlib`\n",
        "- `scikit-learn`\n",
        "- `tensorflow` (>= 2.12)\n",
        "- `google.colab` (para montar Drive)\n",
        "\n",
        "No necesitas instalar nada extra en Colab.\n",
        "\n",
        "---\n",
        "\n",
        "## 📊 Datos de entrada\n",
        "\n",
        "El notebook busca automáticamente los arrays `.npy` en tu Google Drive:\n",
        "\n",
        "- `X_seq.npy` → Secuencias de longitud fija con 1 canal.  \n",
        "**Shape esperado**: `(muestras, seq_len, 1)`\n",
        "\n",
        "- `X_static.npy` → Atributos estáticos complementarios (ej: edad, rol, equipo).  \n",
        "**Shape esperado**: `(muestras, n_features)`\n",
        "\n",
        "- `y.npy` → Etiquetas de salida (codificadas como enteros).  \n",
        "**Shape esperado**: `(muestras,)`\n",
        "\n",
        "---\n",
        "\n",
        "## 🧠 Modelo LSTM híbrido\n",
        "\n",
        "El modelo combina:\n",
        "\n",
        "1. **Entrada secuencial (X_seq)**  \n",
        " - `Masking` (manejo de padding)  \n",
        " - `LSTM(64)`  \n",
        " - `Dropout(0.3)`\n",
        "\n",
        "2. **Entrada estática (X_static)**  \n",
        " - `Dense(32, relu)`\n",
        "\n",
        "3. **Concatenación**  \n",
        " - `Dense(64, relu)`  \n",
        " - `Dense(#clases, softmax)`\n",
        "\n",
        "**Compilación**:  \n",
        "```python\n",
        "optimizer=\"adam\"\n",
        "loss=\"sparse_categorical_crossentropy\"\n",
        "metrics=[\"accuracy\"]\n"
      ],
      "metadata": {
        "id": "GCTbIQVbm1dQ"
      }
    },
    {
      "cell_type": "markdown",
      "source": [
        "#📄 README.md (versión extendida con diagrama)"
      ],
      "metadata": {
        "id": "_qil3WztoVct"
      }
    },
    {
      "cell_type": "markdown",
      "source": [
        "# 📘 Notebook 04 - LSTM híbrido\n",
        "\n",
        "Este notebook implementa un modelo de **Red Neuronal LSTM** para procesar secuencias de eventos de un partido de fútbol, complementadas con información estática del contexto del jugador/equipo.\n",
        "\n",
        "---\n",
        "\n",
        "## 📂 Contenido\n",
        "\n",
        "- `04-LSTM.ipynb` → Notebook en Google Colab con el modelo híbrido.\n",
        "- Modelos entrenados se guardarán automáticamente en:\n",
        "##/MyDrive/football_project/models/lstm_best.keras\n",
        "\n",
        "\n",
        "---\n",
        "\n",
        "## 🔧 Dependencias\n",
        "\n",
        "El notebook está preparado para Google Colab con las siguientes librerías principales:\n",
        "\n",
        "- `numpy`\n",
        "- `matplotlib`\n",
        "- `scikit-learn`\n",
        "- `tensorflow` (>= 2.12)\n",
        "- `google.colab` (para montar Drive)\n",
        "\n",
        "No necesitas instalar nada extra en Colab.\n",
        "\n",
        "---\n",
        "\n",
        "## 📊 Datos de entrada\n",
        "\n",
        "El notebook busca automáticamente los arrays `.npy` en tu Google Drive:\n",
        "\n",
        "- `X_seq.npy` → Secuencias de longitud fija con 1 canal.  \n",
        "**Shape esperado**: `(muestras, seq_len, 1)`\n",
        "\n",
        "- `X_static.npy` → Atributos estáticos complementarios (ej: edad, rol, equipo).  \n",
        "**Shape esperado**: `(muestras, n_features)`\n",
        "\n",
        "- `y.npy` → Etiquetas de salida (codificadas como enteros).  \n",
        "**Shape esperado**: `(muestras,)`\n",
        "\n",
        "---\n",
        "\n",
        "## 🧠 Modelo LSTM híbrido\n",
        "\n",
        "El modelo combina dos entradas:\n",
        "\n",
        "```mermaid\n",
        "flowchart LR\n",
        "  A[📥 X_seq.npy (secuencia)] --> B[LSTM Layer]\n",
        "  B --> C[Vector secuencial]\n",
        "\n",
        "  D[📥 X_static.npy (atributos)] --> E[Dense Layer]\n",
        "  E --> F[Vector estático]\n",
        "\n",
        "  C --> G[Concatenación]\n",
        "  F --> G\n",
        "\n",
        "  G --> H[Dense 64 ReLU]\n",
        "  H --> I[Dense softmax (clases)]\n",
        "  I --> J[📤 y (predicción)]\n"
      ],
      "metadata": {
        "id": "-emlJIABoan1"
      }
    }
  ]
}