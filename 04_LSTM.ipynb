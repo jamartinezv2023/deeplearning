{
  "nbformat": 4,
  "nbformat_minor": 0,
  "metadata": {
    "colab": {
      "provenance": [],
      "include_colab_link": true
    },
    "kernelspec": {
      "name": "python3",
      "display_name": "Python 3"
    },
    "language_info": {
      "name": "python"
    }
  },
  "cells": [
    {
      "cell_type": "markdown",
      "metadata": {
        "id": "view-in-github",
        "colab_type": "text"
      },
      "source": [
        "<a href=\"https://colab.research.google.com/github/jamartinezv2023/deeplearning/blob/main/04_LSTM.ipynb\" target=\"_parent\"><img src=\"https://colab.research.google.com/assets/colab-badge.svg\" alt=\"Open In Colab\"/></a>"
      ]
    },
    {
      "cell_type": "markdown",
      "source": [
        "#Notebook 04-LSTM.ipynb (versión en celdas planas)"
      ],
      "metadata": {
        "id": "zdz2_fBHlo9D"
      }
    },
    {
      "cell_type": "code",
      "execution_count": 2,
      "metadata": {
        "colab": {
          "base_uri": "https://localhost:8080/"
        },
        "id": "jC-dsDMYlf2x",
        "outputId": "70a55f46-9f5d-470c-a678-a9a2b3c4fad0"
      },
      "outputs": [
        {
          "output_type": "stream",
          "name": "stdout",
          "text": [
            "Mounted at /content/drive\n"
          ]
        }
      ],
      "source": [
        "# ==============================\n",
        "# 1. Montaje de Drive y librerías\n",
        "# ==============================\n",
        "import os, glob\n",
        "import numpy as np\n",
        "import matplotlib.pyplot as plt\n",
        "\n",
        "import tensorflow as tf\n",
        "from tensorflow import keras\n",
        "from tensorflow.keras import layers\n",
        "from tensorflow.keras.callbacks import EarlyStopping, ModelCheckpoint\n",
        "\n",
        "from sklearn.model_selection import train_test_split\n",
        "from google.colab import drive\n",
        "\n",
        "drive.mount('/content/drive')\n"
      ]
    },
    {
      "cell_type": "code",
      "source": [
        "# ==============================\n",
        "# 2. Función para buscar los .npy en TODO el Drive\n",
        "# ==============================\n",
        "def find_npy(filename, base_dir=\"/content/drive/MyDrive\"):\n",
        "    matches = glob.glob(os.path.join(base_dir, \"**\", filename), recursive=True)\n",
        "    if not matches:\n",
        "        raise FileNotFoundError(f\"No se encontró {filename} en {base_dir}\")\n",
        "    return matches[0]\n",
        "\n",
        "X_seq_path = find_npy(\"X_seq.npy\")\n",
        "X_static_path = find_npy(\"X_static.npy\")\n",
        "y_path = find_npy(\"y.npy\")\n",
        "\n",
        "print(\"Archivos encontrados:\")\n",
        "print(\"X_seq:\", X_seq_path)\n",
        "print(\"X_static:\", X_static_path)\n",
        "print(\"y:\", y_path)\n"
      ],
      "metadata": {
        "colab": {
          "base_uri": "https://localhost:8080/"
        },
        "id": "pTJzTt20l-Nr",
        "outputId": "74bdcdae-09d9-43ca-8355-46153c9e61cf"
      },
      "execution_count": 3,
      "outputs": [
        {
          "output_type": "stream",
          "name": "stdout",
          "text": [
            "Archivos encontrados:\n",
            "X_seq: /content/drive/MyDrive/football/artifacts/X_seq.npy\n",
            "X_static: /content/drive/MyDrive/football/artifacts/X_static.npy\n",
            "y: /content/drive/MyDrive/football/artifacts/y.npy\n"
          ]
        }
      ]
    },
    {
      "cell_type": "code",
      "source": [
        "from google.colab import drive\n",
        "drive.mount('/content/drive')"
      ],
      "metadata": {
        "colab": {
          "base_uri": "https://localhost:8080/"
        },
        "id": "dl-dQvdBf5P_",
        "outputId": "bdbba3b3-aabb-42ec-828c-5d620086564a"
      },
      "execution_count": 4,
      "outputs": [
        {
          "output_type": "stream",
          "name": "stdout",
          "text": [
            "Drive already mounted at /content/drive; to attempt to forcibly remount, call drive.mount(\"/content/drive\", force_remount=True).\n"
          ]
        }
      ]
    },
    {
      "cell_type": "code",
      "source": [
        "# ==============================\n",
        "# 3. Cargar arrays procesados\n",
        "# ==============================\n",
        "X_seq = np.load(X_seq_path)        # (muestras, seq_len, 1)\n",
        "X_static = np.load(X_static_path)  # (muestras, n_features)\n",
        "y = np.load(y_path)                # (muestras,)\n",
        "\n",
        "print(\"Shapes:\")\n",
        "print(\"X_seq:\", X_seq.shape)\n",
        "print(\"X_static:\", X_static.shape)\n",
        "print(\"y:\", y.shape)\n"
      ],
      "metadata": {
        "colab": {
          "base_uri": "https://localhost:8080/"
        },
        "id": "gS1udSBzmIQq",
        "outputId": "d24f1db6-a50e-4adf-a422-3cd03c352f08"
      },
      "execution_count": 6,
      "outputs": [
        {
          "output_type": "stream",
          "name": "stdout",
          "text": [
            "Shapes:\n",
            "X_seq: (48532, 5, 1)\n",
            "X_static: (48532, 3)\n",
            "y: (48532,)\n"
          ]
        }
      ]
    },
    {
      "cell_type": "code",
      "source": [
        "# ==============================\n",
        "# 4. Split train/test\n",
        "# ==============================\n",
        "Xs_train, Xs_test, Xst_train, Xst_test, y_train, y_test = train_test_split(\n",
        "    X_seq, X_static, y, test_size=0.2, random_state=42, stratify=y\n",
        ")\n",
        "\n",
        "print(\"Train size:\", Xs_train.shape[0])\n",
        "print(\"Test size:\", Xs_test.shape[0])\n"
      ],
      "metadata": {
        "colab": {
          "base_uri": "https://localhost:8080/"
        },
        "id": "KwbbywJemQCZ",
        "outputId": "68db4d4f-e145-42e8-ee5e-2b7b79dadbf9"
      },
      "execution_count": 8,
      "outputs": [
        {
          "output_type": "stream",
          "name": "stdout",
          "text": [
            "Train size: 38825\n",
            "Test size: 9707\n"
          ]
        }
      ]
    },
    {
      "cell_type": "code",
      "source": [
        "# ==============================\n",
        "# 5. Definir arquitectura LSTM híbrida\n",
        "# ==============================\n",
        "\n",
        "# Entrada secuencial\n",
        "seq_input = keras.Input(shape=Xs_train.shape[1:], name=\"seq_input\")  # (seq_len, 1)\n",
        "x = layers.Masking()(seq_input)  # en caso de padding\n",
        "x = layers.LSTM(64, return_sequences=False)(x)\n",
        "x = layers.Dropout(0.3)(x)\n",
        "\n",
        "# Entrada estática\n",
        "static_input = keras.Input(shape=(Xst_train.shape[1],), name=\"static_input\")\n",
        "z = layers.Dense(32, activation=\"relu\")(static_input)\n",
        "\n",
        "# Concatenación\n",
        "concat = layers.concatenate([x, z])\n",
        "h = layers.Dense(64, activation=\"relu\")(concat)\n",
        "output = layers.Dense(len(np.unique(y)), activation=\"softmax\")(h)\n",
        "\n",
        "model_lstm = keras.Model(inputs=[seq_input, static_input], outputs=output)\n",
        "\n",
        "model_lstm.compile(\n",
        "    optimizer=\"adam\",\n",
        "    loss=\"sparse_categorical_crossentropy\",\n",
        "    metrics=[\"accuracy\"]\n",
        ")\n",
        "\n",
        "model_lstm.summary()\n"
      ],
      "metadata": {
        "colab": {
          "base_uri": "https://localhost:8080/",
          "height": 573
        },
        "id": "YoEU_dcUmVGx",
        "outputId": "2658a500-2727-4c43-dc4f-a6a0f7d1a9ab"
      },
      "execution_count": 9,
      "outputs": [
        {
          "output_type": "display_data",
          "data": {
            "text/plain": [
              "\u001b[1mModel: \"functional\"\u001b[0m\n"
            ],
            "text/html": [
              "<pre style=\"white-space:pre;overflow-x:auto;line-height:normal;font-family:Menlo,'DejaVu Sans Mono',consolas,'Courier New',monospace\"><span style=\"font-weight: bold\">Model: \"functional\"</span>\n",
              "</pre>\n"
            ]
          },
          "metadata": {}
        },
        {
          "output_type": "display_data",
          "data": {
            "text/plain": [
              "┏━━━━━━━━━━━━━━━━━━━━━┳━━━━━━━━━━━━━━━━━━━┳━━━━━━━━━━━━┳━━━━━━━━━━━━━━━━━━━┓\n",
              "┃\u001b[1m \u001b[0m\u001b[1mLayer (type)       \u001b[0m\u001b[1m \u001b[0m┃\u001b[1m \u001b[0m\u001b[1mOutput Shape     \u001b[0m\u001b[1m \u001b[0m┃\u001b[1m \u001b[0m\u001b[1m   Param #\u001b[0m\u001b[1m \u001b[0m┃\u001b[1m \u001b[0m\u001b[1mConnected to     \u001b[0m\u001b[1m \u001b[0m┃\n",
              "┡━━━━━━━━━━━━━━━━━━━━━╇━━━━━━━━━━━━━━━━━━━╇━━━━━━━━━━━━╇━━━━━━━━━━━━━━━━━━━┩\n",
              "│ seq_input           │ (\u001b[38;5;45mNone\u001b[0m, \u001b[38;5;34m5\u001b[0m, \u001b[38;5;34m1\u001b[0m)      │          \u001b[38;5;34m0\u001b[0m │ -                 │\n",
              "│ (\u001b[38;5;33mInputLayer\u001b[0m)        │                   │            │                   │\n",
              "├─────────────────────┼───────────────────┼────────────┼───────────────────┤\n",
              "│ not_equal           │ (\u001b[38;5;45mNone\u001b[0m, \u001b[38;5;34m5\u001b[0m, \u001b[38;5;34m1\u001b[0m)      │          \u001b[38;5;34m0\u001b[0m │ seq_input[\u001b[38;5;34m0\u001b[0m][\u001b[38;5;34m0\u001b[0m]   │\n",
              "│ (\u001b[38;5;33mNotEqual\u001b[0m)          │                   │            │                   │\n",
              "├─────────────────────┼───────────────────┼────────────┼───────────────────┤\n",
              "│ masking (\u001b[38;5;33mMasking\u001b[0m)   │ (\u001b[38;5;45mNone\u001b[0m, \u001b[38;5;34m5\u001b[0m, \u001b[38;5;34m1\u001b[0m)      │          \u001b[38;5;34m0\u001b[0m │ seq_input[\u001b[38;5;34m0\u001b[0m][\u001b[38;5;34m0\u001b[0m]   │\n",
              "├─────────────────────┼───────────────────┼────────────┼───────────────────┤\n",
              "│ any (\u001b[38;5;33mAny\u001b[0m)           │ (\u001b[38;5;45mNone\u001b[0m, \u001b[38;5;34m5\u001b[0m)         │          \u001b[38;5;34m0\u001b[0m │ not_equal[\u001b[38;5;34m0\u001b[0m][\u001b[38;5;34m0\u001b[0m]   │\n",
              "├─────────────────────┼───────────────────┼────────────┼───────────────────┤\n",
              "│ lstm (\u001b[38;5;33mLSTM\u001b[0m)         │ (\u001b[38;5;45mNone\u001b[0m, \u001b[38;5;34m64\u001b[0m)        │     \u001b[38;5;34m16,896\u001b[0m │ masking[\u001b[38;5;34m0\u001b[0m][\u001b[38;5;34m0\u001b[0m],    │\n",
              "│                     │                   │            │ any[\u001b[38;5;34m0\u001b[0m][\u001b[38;5;34m0\u001b[0m]         │\n",
              "├─────────────────────┼───────────────────┼────────────┼───────────────────┤\n",
              "│ static_input        │ (\u001b[38;5;45mNone\u001b[0m, \u001b[38;5;34m3\u001b[0m)         │          \u001b[38;5;34m0\u001b[0m │ -                 │\n",
              "│ (\u001b[38;5;33mInputLayer\u001b[0m)        │                   │            │                   │\n",
              "├─────────────────────┼───────────────────┼────────────┼───────────────────┤\n",
              "│ dropout (\u001b[38;5;33mDropout\u001b[0m)   │ (\u001b[38;5;45mNone\u001b[0m, \u001b[38;5;34m64\u001b[0m)        │          \u001b[38;5;34m0\u001b[0m │ lstm[\u001b[38;5;34m0\u001b[0m][\u001b[38;5;34m0\u001b[0m]        │\n",
              "├─────────────────────┼───────────────────┼────────────┼───────────────────┤\n",
              "│ dense (\u001b[38;5;33mDense\u001b[0m)       │ (\u001b[38;5;45mNone\u001b[0m, \u001b[38;5;34m32\u001b[0m)        │        \u001b[38;5;34m128\u001b[0m │ static_input[\u001b[38;5;34m0\u001b[0m][\u001b[38;5;34m…\u001b[0m │\n",
              "├─────────────────────┼───────────────────┼────────────┼───────────────────┤\n",
              "│ concatenate         │ (\u001b[38;5;45mNone\u001b[0m, \u001b[38;5;34m96\u001b[0m)        │          \u001b[38;5;34m0\u001b[0m │ dropout[\u001b[38;5;34m0\u001b[0m][\u001b[38;5;34m0\u001b[0m],    │\n",
              "│ (\u001b[38;5;33mConcatenate\u001b[0m)       │                   │            │ dense[\u001b[38;5;34m0\u001b[0m][\u001b[38;5;34m0\u001b[0m]       │\n",
              "├─────────────────────┼───────────────────┼────────────┼───────────────────┤\n",
              "│ dense_1 (\u001b[38;5;33mDense\u001b[0m)     │ (\u001b[38;5;45mNone\u001b[0m, \u001b[38;5;34m64\u001b[0m)        │      \u001b[38;5;34m6,208\u001b[0m │ concatenate[\u001b[38;5;34m0\u001b[0m][\u001b[38;5;34m0\u001b[0m] │\n",
              "├─────────────────────┼───────────────────┼────────────┼───────────────────┤\n",
              "│ dense_2 (\u001b[38;5;33mDense\u001b[0m)     │ (\u001b[38;5;45mNone\u001b[0m, \u001b[38;5;34m3\u001b[0m)         │        \u001b[38;5;34m195\u001b[0m │ dense_1[\u001b[38;5;34m0\u001b[0m][\u001b[38;5;34m0\u001b[0m]     │\n",
              "└─────────────────────┴───────────────────┴────────────┴───────────────────┘\n"
            ],
            "text/html": [
              "<pre style=\"white-space:pre;overflow-x:auto;line-height:normal;font-family:Menlo,'DejaVu Sans Mono',consolas,'Courier New',monospace\">┏━━━━━━━━━━━━━━━━━━━━━┳━━━━━━━━━━━━━━━━━━━┳━━━━━━━━━━━━┳━━━━━━━━━━━━━━━━━━━┓\n",
              "┃<span style=\"font-weight: bold\"> Layer (type)        </span>┃<span style=\"font-weight: bold\"> Output Shape      </span>┃<span style=\"font-weight: bold\">    Param # </span>┃<span style=\"font-weight: bold\"> Connected to      </span>┃\n",
              "┡━━━━━━━━━━━━━━━━━━━━━╇━━━━━━━━━━━━━━━━━━━╇━━━━━━━━━━━━╇━━━━━━━━━━━━━━━━━━━┩\n",
              "│ seq_input           │ (<span style=\"color: #00d7ff; text-decoration-color: #00d7ff\">None</span>, <span style=\"color: #00af00; text-decoration-color: #00af00\">5</span>, <span style=\"color: #00af00; text-decoration-color: #00af00\">1</span>)      │          <span style=\"color: #00af00; text-decoration-color: #00af00\">0</span> │ -                 │\n",
              "│ (<span style=\"color: #0087ff; text-decoration-color: #0087ff\">InputLayer</span>)        │                   │            │                   │\n",
              "├─────────────────────┼───────────────────┼────────────┼───────────────────┤\n",
              "│ not_equal           │ (<span style=\"color: #00d7ff; text-decoration-color: #00d7ff\">None</span>, <span style=\"color: #00af00; text-decoration-color: #00af00\">5</span>, <span style=\"color: #00af00; text-decoration-color: #00af00\">1</span>)      │          <span style=\"color: #00af00; text-decoration-color: #00af00\">0</span> │ seq_input[<span style=\"color: #00af00; text-decoration-color: #00af00\">0</span>][<span style=\"color: #00af00; text-decoration-color: #00af00\">0</span>]   │\n",
              "│ (<span style=\"color: #0087ff; text-decoration-color: #0087ff\">NotEqual</span>)          │                   │            │                   │\n",
              "├─────────────────────┼───────────────────┼────────────┼───────────────────┤\n",
              "│ masking (<span style=\"color: #0087ff; text-decoration-color: #0087ff\">Masking</span>)   │ (<span style=\"color: #00d7ff; text-decoration-color: #00d7ff\">None</span>, <span style=\"color: #00af00; text-decoration-color: #00af00\">5</span>, <span style=\"color: #00af00; text-decoration-color: #00af00\">1</span>)      │          <span style=\"color: #00af00; text-decoration-color: #00af00\">0</span> │ seq_input[<span style=\"color: #00af00; text-decoration-color: #00af00\">0</span>][<span style=\"color: #00af00; text-decoration-color: #00af00\">0</span>]   │\n",
              "├─────────────────────┼───────────────────┼────────────┼───────────────────┤\n",
              "│ any (<span style=\"color: #0087ff; text-decoration-color: #0087ff\">Any</span>)           │ (<span style=\"color: #00d7ff; text-decoration-color: #00d7ff\">None</span>, <span style=\"color: #00af00; text-decoration-color: #00af00\">5</span>)         │          <span style=\"color: #00af00; text-decoration-color: #00af00\">0</span> │ not_equal[<span style=\"color: #00af00; text-decoration-color: #00af00\">0</span>][<span style=\"color: #00af00; text-decoration-color: #00af00\">0</span>]   │\n",
              "├─────────────────────┼───────────────────┼────────────┼───────────────────┤\n",
              "│ lstm (<span style=\"color: #0087ff; text-decoration-color: #0087ff\">LSTM</span>)         │ (<span style=\"color: #00d7ff; text-decoration-color: #00d7ff\">None</span>, <span style=\"color: #00af00; text-decoration-color: #00af00\">64</span>)        │     <span style=\"color: #00af00; text-decoration-color: #00af00\">16,896</span> │ masking[<span style=\"color: #00af00; text-decoration-color: #00af00\">0</span>][<span style=\"color: #00af00; text-decoration-color: #00af00\">0</span>],    │\n",
              "│                     │                   │            │ any[<span style=\"color: #00af00; text-decoration-color: #00af00\">0</span>][<span style=\"color: #00af00; text-decoration-color: #00af00\">0</span>]         │\n",
              "├─────────────────────┼───────────────────┼────────────┼───────────────────┤\n",
              "│ static_input        │ (<span style=\"color: #00d7ff; text-decoration-color: #00d7ff\">None</span>, <span style=\"color: #00af00; text-decoration-color: #00af00\">3</span>)         │          <span style=\"color: #00af00; text-decoration-color: #00af00\">0</span> │ -                 │\n",
              "│ (<span style=\"color: #0087ff; text-decoration-color: #0087ff\">InputLayer</span>)        │                   │            │                   │\n",
              "├─────────────────────┼───────────────────┼────────────┼───────────────────┤\n",
              "│ dropout (<span style=\"color: #0087ff; text-decoration-color: #0087ff\">Dropout</span>)   │ (<span style=\"color: #00d7ff; text-decoration-color: #00d7ff\">None</span>, <span style=\"color: #00af00; text-decoration-color: #00af00\">64</span>)        │          <span style=\"color: #00af00; text-decoration-color: #00af00\">0</span> │ lstm[<span style=\"color: #00af00; text-decoration-color: #00af00\">0</span>][<span style=\"color: #00af00; text-decoration-color: #00af00\">0</span>]        │\n",
              "├─────────────────────┼───────────────────┼────────────┼───────────────────┤\n",
              "│ dense (<span style=\"color: #0087ff; text-decoration-color: #0087ff\">Dense</span>)       │ (<span style=\"color: #00d7ff; text-decoration-color: #00d7ff\">None</span>, <span style=\"color: #00af00; text-decoration-color: #00af00\">32</span>)        │        <span style=\"color: #00af00; text-decoration-color: #00af00\">128</span> │ static_input[<span style=\"color: #00af00; text-decoration-color: #00af00\">0</span>][<span style=\"color: #00af00; text-decoration-color: #00af00\">…</span> │\n",
              "├─────────────────────┼───────────────────┼────────────┼───────────────────┤\n",
              "│ concatenate         │ (<span style=\"color: #00d7ff; text-decoration-color: #00d7ff\">None</span>, <span style=\"color: #00af00; text-decoration-color: #00af00\">96</span>)        │          <span style=\"color: #00af00; text-decoration-color: #00af00\">0</span> │ dropout[<span style=\"color: #00af00; text-decoration-color: #00af00\">0</span>][<span style=\"color: #00af00; text-decoration-color: #00af00\">0</span>],    │\n",
              "│ (<span style=\"color: #0087ff; text-decoration-color: #0087ff\">Concatenate</span>)       │                   │            │ dense[<span style=\"color: #00af00; text-decoration-color: #00af00\">0</span>][<span style=\"color: #00af00; text-decoration-color: #00af00\">0</span>]       │\n",
              "├─────────────────────┼───────────────────┼────────────┼───────────────────┤\n",
              "│ dense_1 (<span style=\"color: #0087ff; text-decoration-color: #0087ff\">Dense</span>)     │ (<span style=\"color: #00d7ff; text-decoration-color: #00d7ff\">None</span>, <span style=\"color: #00af00; text-decoration-color: #00af00\">64</span>)        │      <span style=\"color: #00af00; text-decoration-color: #00af00\">6,208</span> │ concatenate[<span style=\"color: #00af00; text-decoration-color: #00af00\">0</span>][<span style=\"color: #00af00; text-decoration-color: #00af00\">0</span>] │\n",
              "├─────────────────────┼───────────────────┼────────────┼───────────────────┤\n",
              "│ dense_2 (<span style=\"color: #0087ff; text-decoration-color: #0087ff\">Dense</span>)     │ (<span style=\"color: #00d7ff; text-decoration-color: #00d7ff\">None</span>, <span style=\"color: #00af00; text-decoration-color: #00af00\">3</span>)         │        <span style=\"color: #00af00; text-decoration-color: #00af00\">195</span> │ dense_1[<span style=\"color: #00af00; text-decoration-color: #00af00\">0</span>][<span style=\"color: #00af00; text-decoration-color: #00af00\">0</span>]     │\n",
              "└─────────────────────┴───────────────────┴────────────┴───────────────────┘\n",
              "</pre>\n"
            ]
          },
          "metadata": {}
        },
        {
          "output_type": "display_data",
          "data": {
            "text/plain": [
              "\u001b[1m Total params: \u001b[0m\u001b[38;5;34m23,427\u001b[0m (91.51 KB)\n"
            ],
            "text/html": [
              "<pre style=\"white-space:pre;overflow-x:auto;line-height:normal;font-family:Menlo,'DejaVu Sans Mono',consolas,'Courier New',monospace\"><span style=\"font-weight: bold\"> Total params: </span><span style=\"color: #00af00; text-decoration-color: #00af00\">23,427</span> (91.51 KB)\n",
              "</pre>\n"
            ]
          },
          "metadata": {}
        },
        {
          "output_type": "display_data",
          "data": {
            "text/plain": [
              "\u001b[1m Trainable params: \u001b[0m\u001b[38;5;34m23,427\u001b[0m (91.51 KB)\n"
            ],
            "text/html": [
              "<pre style=\"white-space:pre;overflow-x:auto;line-height:normal;font-family:Menlo,'DejaVu Sans Mono',consolas,'Courier New',monospace\"><span style=\"font-weight: bold\"> Trainable params: </span><span style=\"color: #00af00; text-decoration-color: #00af00\">23,427</span> (91.51 KB)\n",
              "</pre>\n"
            ]
          },
          "metadata": {}
        },
        {
          "output_type": "display_data",
          "data": {
            "text/plain": [
              "\u001b[1m Non-trainable params: \u001b[0m\u001b[38;5;34m0\u001b[0m (0.00 B)\n"
            ],
            "text/html": [
              "<pre style=\"white-space:pre;overflow-x:auto;line-height:normal;font-family:Menlo,'DejaVu Sans Mono',consolas,'Courier New',monospace\"><span style=\"font-weight: bold\"> Non-trainable params: </span><span style=\"color: #00af00; text-decoration-color: #00af00\">0</span> (0.00 B)\n",
              "</pre>\n"
            ]
          },
          "metadata": {}
        }
      ]
    },
    {
      "cell_type": "code",
      "source": [
        "# ==============================\n",
        "# 6. Callbacks y entrenamiento\n",
        "# ==============================\n",
        "save_dir = \"/content/drive/MyDrive/football_project/models\"\n",
        "os.makedirs(save_dir, exist_ok=True)\n",
        "\n",
        "checkpoint_path = os.path.join(save_dir, \"lstm_best.keras\")\n",
        "\n",
        "callbacks = [\n",
        "    EarlyStopping(patience=5, restore_best_weights=True),\n",
        "    ModelCheckpoint(checkpoint_path, save_best_only=True)\n",
        "]\n",
        "\n",
        "history = model_lstm.fit(\n",
        "    [Xs_train, Xst_train], y_train,\n",
        "    validation_split=0.2,\n",
        "    epochs=50,\n",
        "    batch_size=128,\n",
        "    callbacks=callbacks,\n",
        "    verbose=1\n",
        ")\n",
        "\n",
        "print(f\"✅ Modelo guardado en {checkpoint_path}\")\n"
      ],
      "metadata": {
        "colab": {
          "base_uri": "https://localhost:8080/"
        },
        "id": "VHSfr9QtmZOx",
        "outputId": "a2c9427e-02f8-434b-b564-8e80c0bdaf72"
      },
      "execution_count": 10,
      "outputs": [
        {
          "output_type": "stream",
          "name": "stdout",
          "text": [
            "Epoch 1/50\n",
            "\u001b[1m243/243\u001b[0m \u001b[32m━━━━━━━━━━━━━━━━━━━━\u001b[0m\u001b[37m\u001b[0m \u001b[1m6s\u001b[0m 12ms/step - accuracy: 0.4755 - loss: 1.0544 - val_accuracy: 0.4914 - val_loss: 1.0417\n",
            "Epoch 2/50\n",
            "\u001b[1m243/243\u001b[0m \u001b[32m━━━━━━━━━━━━━━━━━━━━\u001b[0m\u001b[37m\u001b[0m \u001b[1m2s\u001b[0m 9ms/step - accuracy: 0.4891 - loss: 1.0418 - val_accuracy: 0.4913 - val_loss: 1.0404\n",
            "Epoch 3/50\n",
            "\u001b[1m243/243\u001b[0m \u001b[32m━━━━━━━━━━━━━━━━━━━━\u001b[0m\u001b[37m\u001b[0m \u001b[1m2s\u001b[0m 9ms/step - accuracy: 0.4919 - loss: 1.0407 - val_accuracy: 0.4904 - val_loss: 1.0403\n",
            "Epoch 4/50\n",
            "\u001b[1m243/243\u001b[0m \u001b[32m━━━━━━━━━━━━━━━━━━━━\u001b[0m\u001b[37m\u001b[0m \u001b[1m4s\u001b[0m 16ms/step - accuracy: 0.4888 - loss: 1.0407 - val_accuracy: 0.4920 - val_loss: 1.0393\n",
            "Epoch 5/50\n",
            "\u001b[1m243/243\u001b[0m \u001b[32m━━━━━━━━━━━━━━━━━━━━\u001b[0m\u001b[37m\u001b[0m \u001b[1m2s\u001b[0m 9ms/step - accuracy: 0.4876 - loss: 1.0418 - val_accuracy: 0.4925 - val_loss: 1.0395\n",
            "Epoch 6/50\n",
            "\u001b[1m243/243\u001b[0m \u001b[32m━━━━━━━━━━━━━━━━━━━━\u001b[0m\u001b[37m\u001b[0m \u001b[1m3s\u001b[0m 9ms/step - accuracy: 0.4960 - loss: 1.0346 - val_accuracy: 0.4929 - val_loss: 1.0412\n",
            "Epoch 7/50\n",
            "\u001b[1m243/243\u001b[0m \u001b[32m━━━━━━━━━━━━━━━━━━━━\u001b[0m\u001b[37m\u001b[0m \u001b[1m3s\u001b[0m 9ms/step - accuracy: 0.4899 - loss: 1.0388 - val_accuracy: 0.4921 - val_loss: 1.0392\n",
            "Epoch 8/50\n",
            "\u001b[1m243/243\u001b[0m \u001b[32m━━━━━━━━━━━━━━━━━━━━\u001b[0m\u001b[37m\u001b[0m \u001b[1m2s\u001b[0m 9ms/step - accuracy: 0.4913 - loss: 1.0376 - val_accuracy: 0.4908 - val_loss: 1.0392\n",
            "Epoch 9/50\n",
            "\u001b[1m243/243\u001b[0m \u001b[32m━━━━━━━━━━━━━━━━━━━━\u001b[0m\u001b[37m\u001b[0m \u001b[1m4s\u001b[0m 15ms/step - accuracy: 0.4916 - loss: 1.0363 - val_accuracy: 0.4922 - val_loss: 1.0387\n",
            "Epoch 10/50\n",
            "\u001b[1m243/243\u001b[0m \u001b[32m━━━━━━━━━━━━━━━━━━━━\u001b[0m\u001b[37m\u001b[0m \u001b[1m2s\u001b[0m 10ms/step - accuracy: 0.4917 - loss: 1.0368 - val_accuracy: 0.4916 - val_loss: 1.0394\n",
            "Epoch 11/50\n",
            "\u001b[1m243/243\u001b[0m \u001b[32m━━━━━━━━━━━━━━━━━━━━\u001b[0m\u001b[37m\u001b[0m \u001b[1m2s\u001b[0m 9ms/step - accuracy: 0.4889 - loss: 1.0380 - val_accuracy: 0.4914 - val_loss: 1.0396\n",
            "Epoch 12/50\n",
            "\u001b[1m243/243\u001b[0m \u001b[32m━━━━━━━━━━━━━━━━━━━━\u001b[0m\u001b[37m\u001b[0m \u001b[1m2s\u001b[0m 9ms/step - accuracy: 0.4927 - loss: 1.0364 - val_accuracy: 0.4903 - val_loss: 1.0391\n",
            "Epoch 13/50\n",
            "\u001b[1m243/243\u001b[0m \u001b[32m━━━━━━━━━━━━━━━━━━━━\u001b[0m\u001b[37m\u001b[0m \u001b[1m2s\u001b[0m 9ms/step - accuracy: 0.4907 - loss: 1.0372 - val_accuracy: 0.4907 - val_loss: 1.0388\n",
            "Epoch 14/50\n",
            "\u001b[1m243/243\u001b[0m \u001b[32m━━━━━━━━━━━━━━━━━━━━\u001b[0m\u001b[37m\u001b[0m \u001b[1m2s\u001b[0m 10ms/step - accuracy: 0.4932 - loss: 1.0349 - val_accuracy: 0.4920 - val_loss: 1.0382\n",
            "Epoch 15/50\n",
            "\u001b[1m243/243\u001b[0m \u001b[32m━━━━━━━━━━━━━━━━━━━━\u001b[0m\u001b[37m\u001b[0m \u001b[1m4s\u001b[0m 15ms/step - accuracy: 0.4909 - loss: 1.0351 - val_accuracy: 0.4921 - val_loss: 1.0392\n",
            "Epoch 16/50\n",
            "\u001b[1m243/243\u001b[0m \u001b[32m━━━━━━━━━━━━━━━━━━━━\u001b[0m\u001b[37m\u001b[0m \u001b[1m2s\u001b[0m 9ms/step - accuracy: 0.4869 - loss: 1.0400 - val_accuracy: 0.4918 - val_loss: 1.0386\n",
            "Epoch 17/50\n",
            "\u001b[1m243/243\u001b[0m \u001b[32m━━━━━━━━━━━━━━━━━━━━\u001b[0m\u001b[37m\u001b[0m \u001b[1m2s\u001b[0m 9ms/step - accuracy: 0.4866 - loss: 1.0384 - val_accuracy: 0.4913 - val_loss: 1.0402\n",
            "Epoch 18/50\n",
            "\u001b[1m243/243\u001b[0m \u001b[32m━━━━━━━━━━━━━━━━━━━━\u001b[0m\u001b[37m\u001b[0m \u001b[1m2s\u001b[0m 9ms/step - accuracy: 0.4924 - loss: 1.0334 - val_accuracy: 0.4917 - val_loss: 1.0378\n",
            "Epoch 19/50\n",
            "\u001b[1m243/243\u001b[0m \u001b[32m━━━━━━━━━━━━━━━━━━━━\u001b[0m\u001b[37m\u001b[0m \u001b[1m2s\u001b[0m 9ms/step - accuracy: 0.5015 - loss: 1.0267 - val_accuracy: 0.4907 - val_loss: 1.0387\n",
            "Epoch 20/50\n",
            "\u001b[1m243/243\u001b[0m \u001b[32m━━━━━━━━━━━━━━━━━━━━\u001b[0m\u001b[37m\u001b[0m \u001b[1m3s\u001b[0m 13ms/step - accuracy: 0.4942 - loss: 1.0333 - val_accuracy: 0.4921 - val_loss: 1.0385\n",
            "Epoch 21/50\n",
            "\u001b[1m243/243\u001b[0m \u001b[32m━━━━━━━━━━━━━━━━━━━━\u001b[0m\u001b[37m\u001b[0m \u001b[1m3s\u001b[0m 12ms/step - accuracy: 0.4966 - loss: 1.0300 - val_accuracy: 0.4920 - val_loss: 1.0388\n",
            "Epoch 22/50\n",
            "\u001b[1m243/243\u001b[0m \u001b[32m━━━━━━━━━━━━━━━━━━━━\u001b[0m\u001b[37m\u001b[0m \u001b[1m2s\u001b[0m 9ms/step - accuracy: 0.4869 - loss: 1.0360 - val_accuracy: 0.4920 - val_loss: 1.0381\n",
            "Epoch 23/50\n",
            "\u001b[1m243/243\u001b[0m \u001b[32m━━━━━━━━━━━━━━━━━━━━\u001b[0m\u001b[37m\u001b[0m \u001b[1m3s\u001b[0m 9ms/step - accuracy: 0.4926 - loss: 1.0325 - val_accuracy: 0.4918 - val_loss: 1.0385\n",
            "✅ Modelo guardado en /content/drive/MyDrive/football_project/models/lstm_best.keras\n"
          ]
        }
      ]
    },
    {
      "cell_type": "code",
      "source": [
        "# ==============================\n",
        "# 7. Evaluación en test\n",
        "# ==============================\n",
        "test_loss, test_acc = model_lstm.evaluate([Xs_test, Xst_test], y_test, verbose=0)\n",
        "print(\"Test Loss:\", test_loss)\n",
        "print(\"Test Accuracy:\", test_acc)\n"
      ],
      "metadata": {
        "colab": {
          "base_uri": "https://localhost:8080/"
        },
        "id": "h0yCtnebmc7x",
        "outputId": "5c9df7df-f539-4fd2-ced0-f6830b06edda"
      },
      "execution_count": 11,
      "outputs": [
        {
          "output_type": "stream",
          "name": "stdout",
          "text": [
            "Test Loss: 1.035210132598877\n",
            "Test Accuracy: 0.48902854323387146\n"
          ]
        }
      ]
    },
    {
      "cell_type": "code",
      "source": [
        "# ==============================\n",
        "# 8. Curvas de entrenamiento\n",
        "# ==============================\n",
        "plt.figure(figsize=(12,5))\n",
        "\n",
        "plt.subplot(1,2,1)\n",
        "plt.plot(history.history['loss'], label=\"Train Loss\")\n",
        "plt.plot(history.history['val_loss'], label=\"Val Loss\")\n",
        "plt.xlabel(\"Epochs\"); plt.ylabel(\"Loss\"); plt.legend(); plt.title(\"Loss Curve\")\n",
        "\n",
        "plt.subplot(1,2,2)\n",
        "plt.plot(history.history['accuracy'], label=\"Train Acc\")\n",
        "plt.plot(history.history['val_accuracy'], label=\"Val Acc\")\n",
        "plt.xlabel(\"Epochs\"); plt.ylabel(\"Accuracy\"); plt.legend(); plt.title(\"Accuracy Curve\")\n",
        "\n",
        "plt.show()\n"
      ],
      "metadata": {
        "colab": {
          "base_uri": "https://localhost:8080/",
          "height": 487
        },
        "id": "xIe05nhjmgfp",
        "outputId": "ea3eb9c8-76aa-4d0f-8d5e-787f02b9c849"
      },
      "execution_count": 12,
      "outputs": [
        {
          "output_type": "display_data",
          "data": {
            "text/plain": [
              "<Figure size 1200x500 with 2 Axes>"
            ],
            "image/png": "[encoded data removed]"
          },
          "metadata": {}
        }
      ]
    },
    {
      "cell_type": "markdown",
      "source": [
        "#README.md (para carpeta 04/)"
      ],
      "metadata": {
        "id": "cwAVXxNUmu1Q"
      }
    },
    {
      "cell_type": "markdown",
      "source": [
        "# 📘 Notebook 04 - LSTM híbrido\n",
        "\n",
        "Este notebook implementa un modelo de **Red Neuronal LSTM** para procesar secuencias de eventos de un partido de fútbol, complementadas con información estática del contexto del jugador/equipo.\n",
        "\n",
        "---\n",
        "\n",
        "## 📂 Contenido\n",
        "\n",
        "- `04-LSTM.ipynb` → Notebook en Google Colab con el modelo híbrido.\n",
        "- Modelos entrenados se guardarán automáticamente en:\n",
        "\n",
        "##/MyDrive/football_project/models/lstm_best.keras\n",
        "\n",
        "\n",
        "\n",
        "---\n",
        "\n",
        "## 🔧 Dependencias\n",
        "\n",
        "El notebook está preparado para Google Colab con las siguientes librerías principales:\n",
        "\n",
        "- `numpy`\n",
        "- `matplotlib`\n",
        "- `scikit-learn`\n",
        "- `tensorflow` (>= 2.12)\n",
        "- `google.colab` (para montar Drive)\n",
        "\n",
        "No necesitas instalar nada extra en Colab.\n",
        "\n",
        "---\n",
        "\n",
        "## 📊 Datos de entrada\n",
        "\n",
        "El notebook busca automáticamente los arrays `.npy` en tu Google Drive:\n",
        "\n",
        "- `X_seq.npy` → Secuencias de longitud fija con 1 canal.  \n",
        "**Shape esperado**: `(muestras, seq_len, 1)`\n",
        "\n",
        "- `X_static.npy` → Atributos estáticos complementarios (ej: edad, rol, equipo).  \n",
        "**Shape esperado**: `(muestras, n_features)`\n",
        "\n",
        "- `y.npy` → Etiquetas de salida (codificadas como enteros).  \n",
        "**Shape esperado**: `(muestras,)`\n",
        "\n",
        "---\n",
        "\n",
        "## 🧠 Modelo LSTM híbrido\n",
        "\n",
        "El modelo combina:\n",
        "\n",
        "1. **Entrada secuencial (X_seq)**  \n",
        " - `Masking` (manejo de padding)  \n",
        " - `LSTM(64)`  \n",
        " - `Dropout(0.3)`\n",
        "\n",
        "2. **Entrada estática (X_static)**  \n",
        " - `Dense(32, relu)`\n",
        "\n",
        "3. **Concatenación**  \n",
        " - `Dense(64, relu)`  \n",
        " - `Dense(#clases, softmax)`\n",
        "\n",
        "**Compilación**:  \n",
        "```python\n",
        "optimizer=\"adam\"\n",
        "loss=\"sparse_categorical_crossentropy\"\n",
        "metrics=[\"accuracy\"]\n"
      ],
      "metadata": {
        "id": "GCTbIQVbm1dQ"
      }
    },
    {
      "cell_type": "markdown",
      "source": [
        "#📄 README.md (versión extendida con diagrama)"
      ],
      "metadata": {
        "id": "_qil3WztoVct"
      }
    },
    {
      "cell_type": "markdown",
      "source": [
        "# 📘 Notebook 04 - LSTM híbrido\n",
        "\n",
        "Este notebook implementa un modelo de **Red Neuronal LSTM** para procesar secuencias de eventos de un partido de fútbol, complementadas con información estática del contexto del jugador/equipo.\n",
        "\n",
        "---\n",
        "\n",
        "## 📂 Contenido\n",
        "\n",
        "- `04-LSTM.ipynb` → Notebook en Google Colab con el modelo híbrido.\n",
        "- Modelos entrenados se guardarán automáticamente en:\n",
        "##/MyDrive/football_project/models/lstm_best.keras\n",
        "\n",
        "\n",
        "---\n",
        "\n",
        "## 🔧 Dependencias\n",
        "\n",
        "El notebook está preparado para Google Colab con las siguientes librerías principales:\n",
        "\n",
        "- `numpy`\n",
        "- `matplotlib`\n",
        "- `scikit-learn`\n",
        "- `tensorflow` (>= 2.12)\n",
        "- `google.colab` (para montar Drive)\n",
        "\n",
        "No necesitas instalar nada extra en Colab.\n",
        "\n",
        "---\n",
        "\n",
        "## 📊 Datos de entrada\n",
        "\n",
        "El notebook busca automáticamente los arrays `.npy` en tu Google Drive:\n",
        "\n",
        "- `X_seq.npy` → Secuencias de longitud fija con 1 canal.  \n",
        "**Shape esperado**: `(muestras, seq_len, 1)`\n",
        "\n",
        "- `X_static.npy` → Atributos estáticos complementarios (ej: edad, rol, equipo).  \n",
        "**Shape esperado**: `(muestras, n_features)`\n",
        "\n",
        "- `y.npy` → Etiquetas de salida (codificadas como enteros).  \n",
        "**Shape esperado**: `(muestras,)`\n",
        "\n",
        "---\n",
        "\n",
        "## 🧠 Modelo LSTM híbrido\n",
        "\n",
        "El modelo combina dos entradas:\n",
        "\n",
        "```mermaid\n",
        "flowchart LR\n",
        "  A[📥 X_seq.npy (secuencia)] --> B[LSTM Layer]\n",
        "  B --> C[Vector secuencial]\n",
        "\n",
        "  D[📥 X_static.npy (atributos)] --> E[Dense Layer]\n",
        "  E --> F[Vector estático]\n",
        "\n",
        "  C --> G[Concatenación]\n",
        "  F --> G\n",
        "\n",
        "  G --> H[Dense 64 ReLU]\n",
        "  H --> I[Dense softmax (clases)]\n",
        "  I --> J[📤 y (predicción)]\n"
      ],
      "metadata": {
        "id": "-emlJIABoan1"
      }
    }
  ]
}